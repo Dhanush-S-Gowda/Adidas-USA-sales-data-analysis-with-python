{
 "cells": [
  {
   "cell_type": "markdown",
   "metadata": {
    "cell_id": "934640eefc0d4640832ba76aab193612",
    "deepnote_cell_type": "markdown"
   },
   "source": [
    "## 1. Importing necessary libraries and dataset"
   ]
  },
  {
   "cell_type": "code",
   "execution_count": 1,
   "metadata": {
    "cell_id": "6596298375e0423dac21f878ceb3a51e",
    "deepnote_cell_type": "code",
    "deepnote_table_loading": false,
    "deepnote_table_state": {
     "filters": [],
     "pageIndex": 0,
     "pageSize": 5,
     "sortBy": []
    },
    "deepnote_to_be_reexecuted": false,
    "execution_millis": 1614,
    "execution_start": 1703563163300,
    "source_hash": "381e7bac"
   },
   "outputs": [
    {
     "data": {
      "application/vnd.deepnote.dataframe.v3+json": {
       "column_count": 13,
       "columns": [
        {
         "dtype": "object",
         "name": "Retailer",
         "stats": {
          "categories": [
           {
            "count": 10,
            "name": "Foot Locker"
           }
          ],
          "nan_count": 0,
          "unique_count": 1
         }
        },
        {
         "dtype": "int64",
         "name": "Retailer_ID",
         "stats": {
          "histogram": [
           {
            "bin_end": 1185731.6,
            "bin_start": 1185731.5,
            "count": 0
           },
           {
            "bin_end": 1185731.7,
            "bin_start": 1185731.6,
            "count": 0
           },
           {
            "bin_end": 1185731.8,
            "bin_start": 1185731.7,
            "count": 0
           },
           {
            "bin_end": 1185731.9,
            "bin_start": 1185731.8,
            "count": 0
           },
           {
            "bin_end": 1185732,
            "bin_start": 1185731.9,
            "count": 0
           },
           {
            "bin_end": 1185732.1,
            "bin_start": 1185732,
            "count": 10
           },
           {
            "bin_end": 1185732.2,
            "bin_start": 1185732.1,
            "count": 0
           },
           {
            "bin_end": 1185732.3,
            "bin_start": 1185732.2,
            "count": 0
           },
           {
            "bin_end": 1185732.4,
            "bin_start": 1185732.3,
            "count": 0
           },
           {
            "bin_end": 1185732.5,
            "bin_start": 1185732.4,
            "count": 0
           }
          ],
          "max": "1185732",
          "min": "1185732",
          "nan_count": 0,
          "unique_count": 1
         }
        },
        {
         "dtype": "object",
         "name": "Invoice_Date",
         "stats": {
          "categories": [
           {
            "count": 1,
            "name": "01-01-2020"
           },
           {
            "count": 1,
            "name": "02-01-2020"
           },
           {
            "count": 8,
            "name": "8 others"
           }
          ],
          "nan_count": 0,
          "unique_count": 10
         }
        },
        {
         "dtype": "object",
         "name": "Region",
         "stats": {
          "categories": [
           {
            "count": 10,
            "name": "Northeast"
           }
          ],
          "nan_count": 0,
          "unique_count": 1
         }
        },
        {
         "dtype": "object",
         "name": "State",
         "stats": {
          "categories": [
           {
            "count": 10,
            "name": "New York"
           }
          ],
          "nan_count": 0,
          "unique_count": 1
         }
        },
        {
         "dtype": "object",
         "name": "City",
         "stats": {
          "categories": [
           {
            "count": 10,
            "name": "New York"
           }
          ],
          "nan_count": 0,
          "unique_count": 1
         }
        },
        {
         "dtype": "object",
         "name": "Product",
         "stats": {
          "categories": [
           {
            "count": 2,
            "name": "Men's Street Footwear"
           },
           {
            "count": 2,
            "name": "Men's Athletic Footwear"
           },
           {
            "count": 6,
            "name": "4 others"
           }
          ],
          "nan_count": 0,
          "unique_count": 6
         }
        },
        {
         "dtype": "object",
         "name": "Price_per_Unit",
         "stats": {
          "categories": [
           {
            "count": 5,
            "name": "$50.00 "
           },
           {
            "count": 2,
            "name": "$40.00 "
           },
           {
            "count": 3,
            "name": "2 others"
           }
          ],
          "nan_count": 0,
          "unique_count": 4
         }
        },
        {
         "dtype": "object",
         "name": "Units_Sold",
         "stats": {
          "categories": [
           {
            "count": 3,
            "name": "1,000"
           },
           {
            "count": 2,
            "name": "900"
           },
           {
            "count": 5,
            "name": "5 others"
           }
          ],
          "nan_count": 0,
          "unique_count": 7
         }
        },
        {
         "dtype": "object",
         "name": "Total_Sales",
         "stats": {
          "categories": [
           {
            "count": 2,
            "name": "$5,00,000 "
           },
           {
            "count": 1,
            "name": "$6,00,000 "
           },
           {
            "count": 7,
            "name": "7 others"
           }
          ],
          "nan_count": 0,
          "unique_count": 9
         }
        },
        {
         "dtype": "object",
         "name": "Operating_Profit",
         "stats": {
          "categories": [
           {
            "count": 1,
            "name": "$3,00,000 "
           },
           {
            "count": 1,
            "name": "$1,50,000 "
           },
           {
            "count": 8,
            "name": "8 others"
           }
          ],
          "nan_count": 0,
          "unique_count": 10
         }
        },
        {
         "dtype": "object",
         "name": "Operating_Margin",
         "stats": {
          "categories": [
           {
            "count": 4,
            "name": "35%"
           },
           {
            "count": 3,
            "name": "30%"
           },
           {
            "count": 3,
            "name": "2 others"
           }
          ],
          "nan_count": 0,
          "unique_count": 4
         }
        },
        {
         "dtype": "object",
         "name": "Sales_Method",
         "stats": {
          "categories": [
           {
            "count": 7,
            "name": "In-store"
           },
           {
            "count": 3,
            "name": "Outlet"
           }
          ],
          "nan_count": 0,
          "unique_count": 2
         }
        },
        {
         "dtype": "int64",
         "name": "_deepnote_index_column"
        }
       ],
       "row_count": 10,
       "rows": [
        {
         "City": "New York",
         "Invoice_Date": "01-01-2020",
         "Operating_Margin": "50%",
         "Operating_Profit": "$3,00,000 ",
         "Price_per_Unit": "$50.00 ",
         "Product": "Men's Street Footwear",
         "Region": "Northeast",
         "Retailer": "Foot Locker",
         "Retailer_ID": 1185732,
         "Sales_Method": "In-store",
         "State": "New York",
         "Total_Sales": "$6,00,000 ",
         "Units_Sold": "1,200",
         "_deepnote_index_column": 0
        },
        {
         "City": "New York",
         "Invoice_Date": "02-01-2020",
         "Operating_Margin": "30%",
         "Operating_Profit": "$1,50,000 ",
         "Price_per_Unit": "$50.00 ",
         "Product": "Men's Athletic Footwear",
         "Region": "Northeast",
         "Retailer": "Foot Locker",
         "Retailer_ID": 1185732,
         "Sales_Method": "In-store",
         "State": "New York",
         "Total_Sales": "$5,00,000 ",
         "Units_Sold": "1,000",
         "_deepnote_index_column": 1
        },
        {
         "City": "New York",
         "Invoice_Date": "03-01-2020",
         "Operating_Margin": "35%",
         "Operating_Profit": "$1,40,000 ",
         "Price_per_Unit": "$40.00 ",
         "Product": "Women's Street Footwear",
         "Region": "Northeast",
         "Retailer": "Foot Locker",
         "Retailer_ID": 1185732,
         "Sales_Method": "In-store",
         "State": "New York",
         "Total_Sales": "$4,00,000 ",
         "Units_Sold": "1,000",
         "_deepnote_index_column": 2
        },
        {
         "City": "New York",
         "Invoice_Date": "04-01-2020",
         "Operating_Margin": "35%",
         "Operating_Profit": "$1,33,875 ",
         "Price_per_Unit": "$45.00 ",
         "Product": "Women's Athletic Footwear",
         "Region": "Northeast",
         "Retailer": "Foot Locker",
         "Retailer_ID": 1185732,
         "Sales_Method": "In-store",
         "State": "New York",
         "Total_Sales": "$3,82,500 ",
         "Units_Sold": "850",
         "_deepnote_index_column": 3
        },
        {
         "City": "New York",
         "Invoice_Date": "05-01-2020",
         "Operating_Margin": "30%",
         "Operating_Profit": "$1,62,000 ",
         "Price_per_Unit": "$60.00 ",
         "Product": "Men's Apparel",
         "Region": "Northeast",
         "Retailer": "Foot Locker",
         "Retailer_ID": 1185732,
         "Sales_Method": "In-store",
         "State": "New York",
         "Total_Sales": "$5,40,000 ",
         "Units_Sold": "900",
         "_deepnote_index_column": 4
        }
       ]
      },
      "text/html": [
       "<div>\n",
       "<style scoped>\n",
       "    .dataframe tbody tr th:only-of-type {\n",
       "        vertical-align: middle;\n",
       "    }\n",
       "\n",
       "    .dataframe tbody tr th {\n",
       "        vertical-align: top;\n",
       "    }\n",
       "\n",
       "    .dataframe thead th {\n",
       "        text-align: right;\n",
       "    }\n",
       "</style>\n",
       "<table border=\"1\" class=\"dataframe\">\n",
       "  <thead>\n",
       "    <tr style=\"text-align: right;\">\n",
       "      <th></th>\n",
       "      <th>Retailer</th>\n",
       "      <th>Retailer_ID</th>\n",
       "      <th>Invoice_Date</th>\n",
       "      <th>Region</th>\n",
       "      <th>State</th>\n",
       "      <th>City</th>\n",
       "      <th>Product</th>\n",
       "      <th>Price_per_Unit</th>\n",
       "      <th>Units_Sold</th>\n",
       "      <th>Total_Sales</th>\n",
       "      <th>Operating_Profit</th>\n",
       "      <th>Operating_Margin</th>\n",
       "      <th>Sales_Method</th>\n",
       "    </tr>\n",
       "  </thead>\n",
       "  <tbody>\n",
       "    <tr>\n",
       "      <th>0</th>\n",
       "      <td>Foot Locker</td>\n",
       "      <td>1185732</td>\n",
       "      <td>01-01-2020</td>\n",
       "      <td>Northeast</td>\n",
       "      <td>New York</td>\n",
       "      <td>New York</td>\n",
       "      <td>Men's Street Footwear</td>\n",
       "      <td>$50.00</td>\n",
       "      <td>1,200</td>\n",
       "      <td>$6,00,000</td>\n",
       "      <td>$3,00,000</td>\n",
       "      <td>50%</td>\n",
       "      <td>In-store</td>\n",
       "    </tr>\n",
       "    <tr>\n",
       "      <th>1</th>\n",
       "      <td>Foot Locker</td>\n",
       "      <td>1185732</td>\n",
       "      <td>02-01-2020</td>\n",
       "      <td>Northeast</td>\n",
       "      <td>New York</td>\n",
       "      <td>New York</td>\n",
       "      <td>Men's Athletic Footwear</td>\n",
       "      <td>$50.00</td>\n",
       "      <td>1,000</td>\n",
       "      <td>$5,00,000</td>\n",
       "      <td>$1,50,000</td>\n",
       "      <td>30%</td>\n",
       "      <td>In-store</td>\n",
       "    </tr>\n",
       "    <tr>\n",
       "      <th>2</th>\n",
       "      <td>Foot Locker</td>\n",
       "      <td>1185732</td>\n",
       "      <td>03-01-2020</td>\n",
       "      <td>Northeast</td>\n",
       "      <td>New York</td>\n",
       "      <td>New York</td>\n",
       "      <td>Women's Street Footwear</td>\n",
       "      <td>$40.00</td>\n",
       "      <td>1,000</td>\n",
       "      <td>$4,00,000</td>\n",
       "      <td>$1,40,000</td>\n",
       "      <td>35%</td>\n",
       "      <td>In-store</td>\n",
       "    </tr>\n",
       "    <tr>\n",
       "      <th>3</th>\n",
       "      <td>Foot Locker</td>\n",
       "      <td>1185732</td>\n",
       "      <td>04-01-2020</td>\n",
       "      <td>Northeast</td>\n",
       "      <td>New York</td>\n",
       "      <td>New York</td>\n",
       "      <td>Women's Athletic Footwear</td>\n",
       "      <td>$45.00</td>\n",
       "      <td>850</td>\n",
       "      <td>$3,82,500</td>\n",
       "      <td>$1,33,875</td>\n",
       "      <td>35%</td>\n",
       "      <td>In-store</td>\n",
       "    </tr>\n",
       "    <tr>\n",
       "      <th>4</th>\n",
       "      <td>Foot Locker</td>\n",
       "      <td>1185732</td>\n",
       "      <td>05-01-2020</td>\n",
       "      <td>Northeast</td>\n",
       "      <td>New York</td>\n",
       "      <td>New York</td>\n",
       "      <td>Men's Apparel</td>\n",
       "      <td>$60.00</td>\n",
       "      <td>900</td>\n",
       "      <td>$5,40,000</td>\n",
       "      <td>$1,62,000</td>\n",
       "      <td>30%</td>\n",
       "      <td>In-store</td>\n",
       "    </tr>\n",
       "    <tr>\n",
       "      <th>5</th>\n",
       "      <td>Foot Locker</td>\n",
       "      <td>1185732</td>\n",
       "      <td>06-01-2020</td>\n",
       "      <td>Northeast</td>\n",
       "      <td>New York</td>\n",
       "      <td>New York</td>\n",
       "      <td>Women's Apparel</td>\n",
       "      <td>$50.00</td>\n",
       "      <td>1,000</td>\n",
       "      <td>$5,00,000</td>\n",
       "      <td>$1,25,000</td>\n",
       "      <td>25%</td>\n",
       "      <td>In-store</td>\n",
       "    </tr>\n",
       "    <tr>\n",
       "      <th>6</th>\n",
       "      <td>Foot Locker</td>\n",
       "      <td>1185732</td>\n",
       "      <td>07-01-2020</td>\n",
       "      <td>Northeast</td>\n",
       "      <td>New York</td>\n",
       "      <td>New York</td>\n",
       "      <td>Men's Street Footwear</td>\n",
       "      <td>$50.00</td>\n",
       "      <td>1,250</td>\n",
       "      <td>$6,25,000</td>\n",
       "      <td>$3,12,500</td>\n",
       "      <td>50%</td>\n",
       "      <td>In-store</td>\n",
       "    </tr>\n",
       "    <tr>\n",
       "      <th>7</th>\n",
       "      <td>Foot Locker</td>\n",
       "      <td>1185732</td>\n",
       "      <td>08-01-2020</td>\n",
       "      <td>Northeast</td>\n",
       "      <td>New York</td>\n",
       "      <td>New York</td>\n",
       "      <td>Men's Athletic Footwear</td>\n",
       "      <td>$50.00</td>\n",
       "      <td>900</td>\n",
       "      <td>$4,50,000</td>\n",
       "      <td>$1,35,000</td>\n",
       "      <td>30%</td>\n",
       "      <td>Outlet</td>\n",
       "    </tr>\n",
       "    <tr>\n",
       "      <th>8</th>\n",
       "      <td>Foot Locker</td>\n",
       "      <td>1185732</td>\n",
       "      <td>21-01-2020</td>\n",
       "      <td>Northeast</td>\n",
       "      <td>New York</td>\n",
       "      <td>New York</td>\n",
       "      <td>Women's Street Footwear</td>\n",
       "      <td>$40.00</td>\n",
       "      <td>950</td>\n",
       "      <td>$3,80,000</td>\n",
       "      <td>$1,33,000</td>\n",
       "      <td>35%</td>\n",
       "      <td>Outlet</td>\n",
       "    </tr>\n",
       "    <tr>\n",
       "      <th>9</th>\n",
       "      <td>Foot Locker</td>\n",
       "      <td>1185732</td>\n",
       "      <td>22-01-2020</td>\n",
       "      <td>Northeast</td>\n",
       "      <td>New York</td>\n",
       "      <td>New York</td>\n",
       "      <td>Women's Athletic Footwear</td>\n",
       "      <td>$45.00</td>\n",
       "      <td>825</td>\n",
       "      <td>$3,71,250</td>\n",
       "      <td>$1,29,938</td>\n",
       "      <td>35%</td>\n",
       "      <td>Outlet</td>\n",
       "    </tr>\n",
       "  </tbody>\n",
       "</table>\n",
       "</div>"
      ],
      "text/plain": [
       "      Retailer  Retailer_ID Invoice_Date     Region     State      City  \\\n",
       "0  Foot Locker      1185732   01-01-2020  Northeast  New York  New York   \n",
       "1  Foot Locker      1185732   02-01-2020  Northeast  New York  New York   \n",
       "2  Foot Locker      1185732   03-01-2020  Northeast  New York  New York   \n",
       "3  Foot Locker      1185732   04-01-2020  Northeast  New York  New York   \n",
       "4  Foot Locker      1185732   05-01-2020  Northeast  New York  New York   \n",
       "5  Foot Locker      1185732   06-01-2020  Northeast  New York  New York   \n",
       "6  Foot Locker      1185732   07-01-2020  Northeast  New York  New York   \n",
       "7  Foot Locker      1185732   08-01-2020  Northeast  New York  New York   \n",
       "8  Foot Locker      1185732   21-01-2020  Northeast  New York  New York   \n",
       "9  Foot Locker      1185732   22-01-2020  Northeast  New York  New York   \n",
       "\n",
       "                     Product Price_per_Unit Units_Sold Total_Sales  \\\n",
       "0      Men's Street Footwear        $50.00       1,200  $6,00,000    \n",
       "1    Men's Athletic Footwear        $50.00       1,000  $5,00,000    \n",
       "2    Women's Street Footwear        $40.00       1,000  $4,00,000    \n",
       "3  Women's Athletic Footwear        $45.00         850  $3,82,500    \n",
       "4              Men's Apparel        $60.00         900  $5,40,000    \n",
       "5            Women's Apparel        $50.00       1,000  $5,00,000    \n",
       "6      Men's Street Footwear        $50.00       1,250  $6,25,000    \n",
       "7    Men's Athletic Footwear        $50.00         900  $4,50,000    \n",
       "8    Women's Street Footwear        $40.00         950  $3,80,000    \n",
       "9  Women's Athletic Footwear        $45.00         825  $3,71,250    \n",
       "\n",
       "  Operating_Profit Operating_Margin Sales_Method  \n",
       "0       $3,00,000               50%     In-store  \n",
       "1       $1,50,000               30%     In-store  \n",
       "2       $1,40,000               35%     In-store  \n",
       "3       $1,33,875               35%     In-store  \n",
       "4       $1,62,000               30%     In-store  \n",
       "5       $1,25,000               25%     In-store  \n",
       "6       $3,12,500               50%     In-store  \n",
       "7       $1,35,000               30%       Outlet  \n",
       "8       $1,33,000               35%       Outlet  \n",
       "9       $1,29,938               35%       Outlet  "
      ]
     },
     "execution_count": 1,
     "metadata": {},
     "output_type": "execute_result"
    }
   ],
   "source": [
    "import numpy as np\n",
    "import pandas as pd\n",
    "import seaborn as sns\n",
    "import matplotlib.pyplot as plt\n",
    "df = pd.read_csv('Adidas US Sales Datasets.csv')\n",
    "df.head(10)"
   ]
  },
  {
   "cell_type": "markdown",
   "metadata": {
    "cell_id": "d8fd4c3889c84bd6a6dcbee8c57214c8",
    "deepnote_cell_type": "markdown"
   },
   "source": [
    "## 2. Data inspection"
   ]
  },
  {
   "cell_type": "code",
   "execution_count": 2,
   "metadata": {
    "cell_id": "d4f350dbe6e34934a731aec8094a4cee",
    "deepnote_cell_type": "code",
    "deepnote_to_be_reexecuted": false,
    "execution_millis": 31,
    "execution_start": 1703563164925,
    "source_hash": "d1cb0f11"
   },
   "outputs": [
    {
     "data": {
      "text/plain": [
       "(9648, 13)"
      ]
     },
     "execution_count": 2,
     "metadata": {},
     "output_type": "execute_result"
    }
   ],
   "source": [
    "df.shape\n",
    "#There are 9648 rows and 13 columns"
   ]
  },
  {
   "cell_type": "code",
   "execution_count": 3,
   "metadata": {
    "cell_id": "a35707c3161141f9896148b38037021f",
    "deepnote_cell_type": "code",
    "deepnote_to_be_reexecuted": false,
    "execution_millis": 36,
    "execution_start": 1703563164926,
    "source_hash": "8a4111dc"
   },
   "outputs": [
    {
     "data": {
      "text/plain": [
       "Index(['Retailer', 'Retailer_ID', 'Invoice_Date', 'Region', 'State', 'City',\n",
       "       'Product', 'Price_per_Unit', 'Units_Sold', 'Total_Sales',\n",
       "       'Operating_Profit', 'Operating_Margin', 'Sales_Method'],\n",
       "      dtype='object')"
      ]
     },
     "execution_count": 3,
     "metadata": {},
     "output_type": "execute_result"
    }
   ],
   "source": [
    "df.columns\n",
    "#This gives us the list of columns in the  dataset"
   ]
  },
  {
   "cell_type": "code",
   "execution_count": 4,
   "metadata": {
    "cell_id": "0c5292fe7634419c8c0ff0256b1a5ccf",
    "deepnote_cell_type": "code",
    "deepnote_to_be_reexecuted": false,
    "execution_millis": 41,
    "execution_start": 1703563164940,
    "source_hash": "de1e323c"
   },
   "outputs": [
    {
     "name": "stdout",
     "output_type": "stream",
     "text": [
      "<class 'pandas.core.frame.DataFrame'>\n",
      "RangeIndex: 9648 entries, 0 to 9647\n",
      "Data columns (total 13 columns):\n",
      " #   Column            Non-Null Count  Dtype \n",
      "---  ------            --------------  ----- \n",
      " 0   Retailer          9648 non-null   object\n",
      " 1   Retailer_ID       9648 non-null   int64 \n",
      " 2   Invoice_Date      9648 non-null   object\n",
      " 3   Region            9648 non-null   object\n",
      " 4   State             9648 non-null   object\n",
      " 5   City              9648 non-null   object\n",
      " 6   Product           9648 non-null   object\n",
      " 7   Price_per_Unit    9648 non-null   object\n",
      " 8   Units_Sold        9648 non-null   object\n",
      " 9   Total_Sales       9648 non-null   object\n",
      " 10  Operating_Profit  9648 non-null   object\n",
      " 11  Operating_Margin  9648 non-null   object\n",
      " 12  Sales_Method      9648 non-null   object\n",
      "dtypes: int64(1), object(12)\n",
      "memory usage: 980.0+ KB\n"
     ]
    }
   ],
   "source": [
    "df.info()"
   ]
  },
  {
   "cell_type": "markdown",
   "metadata": {
    "cell_id": "6f594251a10b4dcea46c09b6db871f21",
    "deepnote_cell_type": "markdown"
   },
   "source": [
    "## 3. Data cleaning (Data preprocessing)"
   ]
  },
  {
   "cell_type": "code",
   "execution_count": 5,
   "metadata": {
    "cell_id": "7566bb6ec5c64fcc8562d61d2619b6d2",
    "deepnote_cell_type": "code",
    "deepnote_to_be_reexecuted": false,
    "execution_millis": 110,
    "execution_start": 1703563164963,
    "source_hash": "a453868"
   },
   "outputs": [
    {
     "name": "stderr",
     "output_type": "stream",
     "text": [
      "/tmp/ipykernel_66/4034482655.py:2: FutureWarning: The default value of regex will change from True to False in a future version. In addition, single character regular expressions will*not* be treated as literal strings when regex=True.\n",
      "  df['Price_per_Unit'] = df['Price_per_Unit'].astype(str).str.replace('$', '').str.replace(',', '').astype(float)\n",
      "/tmp/ipykernel_66/4034482655.py:3: FutureWarning: The default value of regex will change from True to False in a future version. In addition, single character regular expressions will*not* be treated as literal strings when regex=True.\n",
      "  df['Total_Sales'] = df['Total_Sales'].astype(str).str.replace('$', '').str.replace(',', '').astype(float)\n",
      "/tmp/ipykernel_66/4034482655.py:4: FutureWarning: The default value of regex will change from True to False in a future version. In addition, single character regular expressions will*not* be treated as literal strings when regex=True.\n",
      "  df['Operating_Profit'] = df['Operating_Profit'].astype(str).str.replace('$', '').str.replace(',', '').astype(float)\n"
     ]
    },
    {
     "data": {
      "application/vnd.deepnote.dataframe.v3+json": {
       "column_count": 13,
       "columns": [
        {
         "dtype": "object",
         "name": "Retailer",
         "stats": {
          "categories": [
           {
            "count": 5,
            "name": "Foot Locker"
           }
          ],
          "nan_count": 0,
          "unique_count": 1
         }
        },
        {
         "dtype": "int64",
         "name": "Retailer_ID",
         "stats": {
          "histogram": [
           {
            "bin_end": 1185731.6,
            "bin_start": 1185731.5,
            "count": 0
           },
           {
            "bin_end": 1185731.7,
            "bin_start": 1185731.6,
            "count": 0
           },
           {
            "bin_end": 1185731.8,
            "bin_start": 1185731.7,
            "count": 0
           },
           {
            "bin_end": 1185731.9,
            "bin_start": 1185731.8,
            "count": 0
           },
           {
            "bin_end": 1185732,
            "bin_start": 1185731.9,
            "count": 0
           },
           {
            "bin_end": 1185732.1,
            "bin_start": 1185732,
            "count": 5
           },
           {
            "bin_end": 1185732.2,
            "bin_start": 1185732.1,
            "count": 0
           },
           {
            "bin_end": 1185732.3,
            "bin_start": 1185732.2,
            "count": 0
           },
           {
            "bin_end": 1185732.4,
            "bin_start": 1185732.3,
            "count": 0
           },
           {
            "bin_end": 1185732.5,
            "bin_start": 1185732.4,
            "count": 0
           }
          ],
          "max": "1185732",
          "min": "1185732",
          "nan_count": 0,
          "unique_count": 1
         }
        },
        {
         "dtype": "object",
         "name": "Invoice_Date",
         "stats": {
          "categories": [
           {
            "count": 1,
            "name": "01-01-2020"
           },
           {
            "count": 1,
            "name": "02-01-2020"
           },
           {
            "count": 3,
            "name": "3 others"
           }
          ],
          "nan_count": 0,
          "unique_count": 5
         }
        },
        {
         "dtype": "object",
         "name": "Region",
         "stats": {
          "categories": [
           {
            "count": 5,
            "name": "Northeast"
           }
          ],
          "nan_count": 0,
          "unique_count": 1
         }
        },
        {
         "dtype": "object",
         "name": "State",
         "stats": {
          "categories": [
           {
            "count": 5,
            "name": "New York"
           }
          ],
          "nan_count": 0,
          "unique_count": 1
         }
        },
        {
         "dtype": "object",
         "name": "City",
         "stats": {
          "categories": [
           {
            "count": 5,
            "name": "New York"
           }
          ],
          "nan_count": 0,
          "unique_count": 1
         }
        },
        {
         "dtype": "object",
         "name": "Product",
         "stats": {
          "categories": [
           {
            "count": 1,
            "name": "Men's Street Footwear"
           },
           {
            "count": 1,
            "name": "Men's Athletic Footwear"
           },
           {
            "count": 3,
            "name": "3 others"
           }
          ],
          "nan_count": 0,
          "unique_count": 5
         }
        },
        {
         "dtype": "float64",
         "name": "Price_per_Unit",
         "stats": {
          "histogram": [
           {
            "bin_end": 42,
            "bin_start": 40,
            "count": 1
           },
           {
            "bin_end": 44,
            "bin_start": 42,
            "count": 0
           },
           {
            "bin_end": 46,
            "bin_start": 44,
            "count": 1
           },
           {
            "bin_end": 48,
            "bin_start": 46,
            "count": 0
           },
           {
            "bin_end": 50,
            "bin_start": 48,
            "count": 0
           },
           {
            "bin_end": 52,
            "bin_start": 50,
            "count": 2
           },
           {
            "bin_end": 54,
            "bin_start": 52,
            "count": 0
           },
           {
            "bin_end": 56,
            "bin_start": 54,
            "count": 0
           },
           {
            "bin_end": 58,
            "bin_start": 56,
            "count": 0
           },
           {
            "bin_end": 60,
            "bin_start": 58,
            "count": 1
           }
          ],
          "max": "60.0",
          "min": "40.0",
          "nan_count": 0,
          "unique_count": 4
         }
        },
        {
         "dtype": "float64",
         "name": "Units_Sold",
         "stats": {
          "histogram": [
           {
            "bin_end": 885,
            "bin_start": 850,
            "count": 1
           },
           {
            "bin_end": 920,
            "bin_start": 885,
            "count": 1
           },
           {
            "bin_end": 955,
            "bin_start": 920,
            "count": 0
           },
           {
            "bin_end": 990,
            "bin_start": 955,
            "count": 0
           },
           {
            "bin_end": 1025,
            "bin_start": 990,
            "count": 2
           },
           {
            "bin_end": 1060,
            "bin_start": 1025,
            "count": 0
           },
           {
            "bin_end": 1095,
            "bin_start": 1060,
            "count": 0
           },
           {
            "bin_end": 1130,
            "bin_start": 1095,
            "count": 0
           },
           {
            "bin_end": 1165,
            "bin_start": 1130,
            "count": 0
           },
           {
            "bin_end": 1200,
            "bin_start": 1165,
            "count": 1
           }
          ],
          "max": "1200.0",
          "min": "850.0",
          "nan_count": 0,
          "unique_count": 4
         }
        },
        {
         "dtype": "float64",
         "name": "Total_Sales",
         "stats": {
          "histogram": [
           {
            "bin_end": 404250,
            "bin_start": 382500,
            "count": 2
           },
           {
            "bin_end": 426000,
            "bin_start": 404250,
            "count": 0
           },
           {
            "bin_end": 447750,
            "bin_start": 426000,
            "count": 0
           },
           {
            "bin_end": 469500,
            "bin_start": 447750,
            "count": 0
           },
           {
            "bin_end": 491250,
            "bin_start": 469500,
            "count": 0
           },
           {
            "bin_end": 513000,
            "bin_start": 491250,
            "count": 1
           },
           {
            "bin_end": 534750,
            "bin_start": 513000,
            "count": 0
           },
           {
            "bin_end": 556500,
            "bin_start": 534750,
            "count": 1
           },
           {
            "bin_end": 578250,
            "bin_start": 556500,
            "count": 0
           },
           {
            "bin_end": 600000,
            "bin_start": 578250,
            "count": 1
           }
          ],
          "max": "600000.0",
          "min": "382500.0",
          "nan_count": 0,
          "unique_count": 5
         }
        },
        {
         "dtype": "float64",
         "name": "Operating_Profit",
         "stats": {
          "histogram": [
           {
            "bin_end": 150487.5,
            "bin_start": 133875,
            "count": 3
           },
           {
            "bin_end": 167100,
            "bin_start": 150487.5,
            "count": 1
           },
           {
            "bin_end": 183712.5,
            "bin_start": 167100,
            "count": 0
           },
           {
            "bin_end": 200325,
            "bin_start": 183712.5,
            "count": 0
           },
           {
            "bin_end": 216937.5,
            "bin_start": 200325,
            "count": 0
           },
           {
            "bin_end": 233550,
            "bin_start": 216937.5,
            "count": 0
           },
           {
            "bin_end": 250162.5,
            "bin_start": 233550,
            "count": 0
           },
           {
            "bin_end": 266775,
            "bin_start": 250162.5,
            "count": 0
           },
           {
            "bin_end": 283387.5,
            "bin_start": 266775,
            "count": 0
           },
           {
            "bin_end": 300000,
            "bin_start": 283387.5,
            "count": 1
           }
          ],
          "max": "300000.0",
          "min": "133875.0",
          "nan_count": 0,
          "unique_count": 5
         }
        },
        {
         "dtype": "float64",
         "name": "Operating_Margin",
         "stats": {
          "histogram": [
           {
            "bin_end": 32,
            "bin_start": 30,
            "count": 2
           },
           {
            "bin_end": 34,
            "bin_start": 32,
            "count": 0
           },
           {
            "bin_end": 36,
            "bin_start": 34,
            "count": 2
           },
           {
            "bin_end": 38,
            "bin_start": 36,
            "count": 0
           },
           {
            "bin_end": 40,
            "bin_start": 38,
            "count": 0
           },
           {
            "bin_end": 42,
            "bin_start": 40,
            "count": 0
           },
           {
            "bin_end": 44,
            "bin_start": 42,
            "count": 0
           },
           {
            "bin_end": 46,
            "bin_start": 44,
            "count": 0
           },
           {
            "bin_end": 48,
            "bin_start": 46,
            "count": 0
           },
           {
            "bin_end": 50,
            "bin_start": 48,
            "count": 1
           }
          ],
          "max": "50.0",
          "min": "30.0",
          "nan_count": 0,
          "unique_count": 3
         }
        },
        {
         "dtype": "object",
         "name": "Sales_Method",
         "stats": {
          "categories": [
           {
            "count": 5,
            "name": "In-store"
           }
          ],
          "nan_count": 0,
          "unique_count": 1
         }
        },
        {
         "dtype": "int64",
         "name": "_deepnote_index_column"
        }
       ],
       "row_count": 5,
       "rows": [
        {
         "City": "New York",
         "Invoice_Date": "01-01-2020",
         "Operating_Margin": 50,
         "Operating_Profit": 300000,
         "Price_per_Unit": 50,
         "Product": "Men's Street Footwear",
         "Region": "Northeast",
         "Retailer": "Foot Locker",
         "Retailer_ID": 1185732,
         "Sales_Method": "In-store",
         "State": "New York",
         "Total_Sales": 600000,
         "Units_Sold": 1200,
         "_deepnote_index_column": 0
        },
        {
         "City": "New York",
         "Invoice_Date": "02-01-2020",
         "Operating_Margin": 30,
         "Operating_Profit": 150000,
         "Price_per_Unit": 50,
         "Product": "Men's Athletic Footwear",
         "Region": "Northeast",
         "Retailer": "Foot Locker",
         "Retailer_ID": 1185732,
         "Sales_Method": "In-store",
         "State": "New York",
         "Total_Sales": 500000,
         "Units_Sold": 1000,
         "_deepnote_index_column": 1
        },
        {
         "City": "New York",
         "Invoice_Date": "03-01-2020",
         "Operating_Margin": 35,
         "Operating_Profit": 140000,
         "Price_per_Unit": 40,
         "Product": "Women's Street Footwear",
         "Region": "Northeast",
         "Retailer": "Foot Locker",
         "Retailer_ID": 1185732,
         "Sales_Method": "In-store",
         "State": "New York",
         "Total_Sales": 400000,
         "Units_Sold": 1000,
         "_deepnote_index_column": 2
        },
        {
         "City": "New York",
         "Invoice_Date": "04-01-2020",
         "Operating_Margin": 35,
         "Operating_Profit": 133875,
         "Price_per_Unit": 45,
         "Product": "Women's Athletic Footwear",
         "Region": "Northeast",
         "Retailer": "Foot Locker",
         "Retailer_ID": 1185732,
         "Sales_Method": "In-store",
         "State": "New York",
         "Total_Sales": 382500,
         "Units_Sold": 850,
         "_deepnote_index_column": 3
        },
        {
         "City": "New York",
         "Invoice_Date": "05-01-2020",
         "Operating_Margin": 30,
         "Operating_Profit": 162000,
         "Price_per_Unit": 60,
         "Product": "Men's Apparel",
         "Region": "Northeast",
         "Retailer": "Foot Locker",
         "Retailer_ID": 1185732,
         "Sales_Method": "In-store",
         "State": "New York",
         "Total_Sales": 540000,
         "Units_Sold": 900,
         "_deepnote_index_column": 4
        }
       ]
      },
      "text/html": [
       "<div>\n",
       "<style scoped>\n",
       "    .dataframe tbody tr th:only-of-type {\n",
       "        vertical-align: middle;\n",
       "    }\n",
       "\n",
       "    .dataframe tbody tr th {\n",
       "        vertical-align: top;\n",
       "    }\n",
       "\n",
       "    .dataframe thead th {\n",
       "        text-align: right;\n",
       "    }\n",
       "</style>\n",
       "<table border=\"1\" class=\"dataframe\">\n",
       "  <thead>\n",
       "    <tr style=\"text-align: right;\">\n",
       "      <th></th>\n",
       "      <th>Retailer</th>\n",
       "      <th>Retailer_ID</th>\n",
       "      <th>Invoice_Date</th>\n",
       "      <th>Region</th>\n",
       "      <th>State</th>\n",
       "      <th>City</th>\n",
       "      <th>Product</th>\n",
       "      <th>Price_per_Unit</th>\n",
       "      <th>Units_Sold</th>\n",
       "      <th>Total_Sales</th>\n",
       "      <th>Operating_Profit</th>\n",
       "      <th>Operating_Margin</th>\n",
       "      <th>Sales_Method</th>\n",
       "    </tr>\n",
       "  </thead>\n",
       "  <tbody>\n",
       "    <tr>\n",
       "      <th>0</th>\n",
       "      <td>Foot Locker</td>\n",
       "      <td>1185732</td>\n",
       "      <td>01-01-2020</td>\n",
       "      <td>Northeast</td>\n",
       "      <td>New York</td>\n",
       "      <td>New York</td>\n",
       "      <td>Men's Street Footwear</td>\n",
       "      <td>50.0</td>\n",
       "      <td>1200.0</td>\n",
       "      <td>600000.0</td>\n",
       "      <td>300000.0</td>\n",
       "      <td>50.0</td>\n",
       "      <td>In-store</td>\n",
       "    </tr>\n",
       "    <tr>\n",
       "      <th>1</th>\n",
       "      <td>Foot Locker</td>\n",
       "      <td>1185732</td>\n",
       "      <td>02-01-2020</td>\n",
       "      <td>Northeast</td>\n",
       "      <td>New York</td>\n",
       "      <td>New York</td>\n",
       "      <td>Men's Athletic Footwear</td>\n",
       "      <td>50.0</td>\n",
       "      <td>1000.0</td>\n",
       "      <td>500000.0</td>\n",
       "      <td>150000.0</td>\n",
       "      <td>30.0</td>\n",
       "      <td>In-store</td>\n",
       "    </tr>\n",
       "    <tr>\n",
       "      <th>2</th>\n",
       "      <td>Foot Locker</td>\n",
       "      <td>1185732</td>\n",
       "      <td>03-01-2020</td>\n",
       "      <td>Northeast</td>\n",
       "      <td>New York</td>\n",
       "      <td>New York</td>\n",
       "      <td>Women's Street Footwear</td>\n",
       "      <td>40.0</td>\n",
       "      <td>1000.0</td>\n",
       "      <td>400000.0</td>\n",
       "      <td>140000.0</td>\n",
       "      <td>35.0</td>\n",
       "      <td>In-store</td>\n",
       "    </tr>\n",
       "    <tr>\n",
       "      <th>3</th>\n",
       "      <td>Foot Locker</td>\n",
       "      <td>1185732</td>\n",
       "      <td>04-01-2020</td>\n",
       "      <td>Northeast</td>\n",
       "      <td>New York</td>\n",
       "      <td>New York</td>\n",
       "      <td>Women's Athletic Footwear</td>\n",
       "      <td>45.0</td>\n",
       "      <td>850.0</td>\n",
       "      <td>382500.0</td>\n",
       "      <td>133875.0</td>\n",
       "      <td>35.0</td>\n",
       "      <td>In-store</td>\n",
       "    </tr>\n",
       "    <tr>\n",
       "      <th>4</th>\n",
       "      <td>Foot Locker</td>\n",
       "      <td>1185732</td>\n",
       "      <td>05-01-2020</td>\n",
       "      <td>Northeast</td>\n",
       "      <td>New York</td>\n",
       "      <td>New York</td>\n",
       "      <td>Men's Apparel</td>\n",
       "      <td>60.0</td>\n",
       "      <td>900.0</td>\n",
       "      <td>540000.0</td>\n",
       "      <td>162000.0</td>\n",
       "      <td>30.0</td>\n",
       "      <td>In-store</td>\n",
       "    </tr>\n",
       "  </tbody>\n",
       "</table>\n",
       "</div>"
      ],
      "text/plain": [
       "      Retailer  Retailer_ID Invoice_Date     Region     State      City  \\\n",
       "0  Foot Locker      1185732   01-01-2020  Northeast  New York  New York   \n",
       "1  Foot Locker      1185732   02-01-2020  Northeast  New York  New York   \n",
       "2  Foot Locker      1185732   03-01-2020  Northeast  New York  New York   \n",
       "3  Foot Locker      1185732   04-01-2020  Northeast  New York  New York   \n",
       "4  Foot Locker      1185732   05-01-2020  Northeast  New York  New York   \n",
       "\n",
       "                     Product  Price_per_Unit  Units_Sold  Total_Sales  \\\n",
       "0      Men's Street Footwear            50.0      1200.0     600000.0   \n",
       "1    Men's Athletic Footwear            50.0      1000.0     500000.0   \n",
       "2    Women's Street Footwear            40.0      1000.0     400000.0   \n",
       "3  Women's Athletic Footwear            45.0       850.0     382500.0   \n",
       "4              Men's Apparel            60.0       900.0     540000.0   \n",
       "\n",
       "   Operating_Profit  Operating_Margin Sales_Method  \n",
       "0          300000.0              50.0     In-store  \n",
       "1          150000.0              30.0     In-store  \n",
       "2          140000.0              35.0     In-store  \n",
       "3          133875.0              35.0     In-store  \n",
       "4          162000.0              30.0     In-store  "
      ]
     },
     "execution_count": 5,
     "metadata": {},
     "output_type": "execute_result"
    }
   ],
   "source": [
    "# Ensure that the columns are of type string before trying to use string methods on them\n",
    "df['Price_per_Unit'] = df['Price_per_Unit'].astype(str).str.replace('$', '').str.replace(',', '').astype(float)\n",
    "df['Total_Sales'] = df['Total_Sales'].astype(str).str.replace('$', '').str.replace(',', '').astype(float)\n",
    "df['Operating_Profit'] = df['Operating_Profit'].astype(str).str.replace('$', '').str.replace(',', '').astype(float)\n",
    "df['Units_Sold'] = df['Units_Sold'].astype(str).str.replace(',', '').astype(float)\n",
    "df['Operating_Margin'] = df['Operating_Margin'].astype(str).str.replace('%', '').astype(float)\n",
    "df.head()"
   ]
  },
  {
   "cell_type": "code",
   "execution_count": 6,
   "metadata": {
    "cell_id": "b04c2b643444491695ed7f3b6217d91c",
    "deepnote_cell_type": "code",
    "deepnote_to_be_reexecuted": false,
    "execution_millis": 33,
    "execution_start": 1703563165068,
    "source_hash": "b4cb6b07"
   },
   "outputs": [
    {
     "data": {
      "application/vnd.deepnote.dataframe.v3+json": {
       "column_count": 13,
       "columns": [
        {
         "dtype": "object",
         "name": "Retailer",
         "stats": {
          "categories": [
           {
            "count": 3,
            "name": "Foot Locker"
           }
          ],
          "nan_count": 0,
          "unique_count": 1
         }
        },
        {
         "dtype": "int64",
         "name": "Retailer_ID",
         "stats": {
          "histogram": [
           {
            "bin_end": 1185731.6,
            "bin_start": 1185731.5,
            "count": 0
           },
           {
            "bin_end": 1185731.7,
            "bin_start": 1185731.6,
            "count": 0
           },
           {
            "bin_end": 1185731.8,
            "bin_start": 1185731.7,
            "count": 0
           },
           {
            "bin_end": 1185731.9,
            "bin_start": 1185731.8,
            "count": 0
           },
           {
            "bin_end": 1185732,
            "bin_start": 1185731.9,
            "count": 0
           },
           {
            "bin_end": 1185732.1,
            "bin_start": 1185732,
            "count": 3
           },
           {
            "bin_end": 1185732.2,
            "bin_start": 1185732.1,
            "count": 0
           },
           {
            "bin_end": 1185732.3,
            "bin_start": 1185732.2,
            "count": 0
           },
           {
            "bin_end": 1185732.4,
            "bin_start": 1185732.3,
            "count": 0
           },
           {
            "bin_end": 1185732.5,
            "bin_start": 1185732.4,
            "count": 0
           }
          ],
          "max": "1185732",
          "min": "1185732",
          "nan_count": 0,
          "unique_count": 1
         }
        },
        {
         "dtype": "object",
         "name": "Invoice_Date",
         "stats": {
          "categories": [
           {
            "count": 1,
            "name": "01-01-2020"
           },
           {
            "count": 1,
            "name": "02-01-2020"
           },
           {
            "count": 1,
            "name": "03-01-2020"
           }
          ],
          "nan_count": 0,
          "unique_count": 3
         }
        },
        {
         "dtype": "object",
         "name": "Region",
         "stats": {
          "categories": [
           {
            "count": 3,
            "name": "Northeast"
           }
          ],
          "nan_count": 0,
          "unique_count": 1
         }
        },
        {
         "dtype": "object",
         "name": "State",
         "stats": {
          "categories": [
           {
            "count": 3,
            "name": "New York"
           }
          ],
          "nan_count": 0,
          "unique_count": 1
         }
        },
        {
         "dtype": "object",
         "name": "City",
         "stats": {
          "categories": [
           {
            "count": 3,
            "name": "New York"
           }
          ],
          "nan_count": 0,
          "unique_count": 1
         }
        },
        {
         "dtype": "object",
         "name": "Product",
         "stats": {
          "categories": [
           {
            "count": 1,
            "name": "Men's Street Footwear"
           },
           {
            "count": 1,
            "name": "Men's Athletic Footwear"
           },
           {
            "count": 1,
            "name": "Women's Street Footwear"
           }
          ],
          "nan_count": 0,
          "unique_count": 3
         }
        },
        {
         "dtype": "float64",
         "name": "Price_per_Unit",
         "stats": {
          "histogram": [
           {
            "bin_end": 41,
            "bin_start": 40,
            "count": 1
           },
           {
            "bin_end": 42,
            "bin_start": 41,
            "count": 0
           },
           {
            "bin_end": 43,
            "bin_start": 42,
            "count": 0
           },
           {
            "bin_end": 44,
            "bin_start": 43,
            "count": 0
           },
           {
            "bin_end": 45,
            "bin_start": 44,
            "count": 0
           },
           {
            "bin_end": 46,
            "bin_start": 45,
            "count": 0
           },
           {
            "bin_end": 47,
            "bin_start": 46,
            "count": 0
           },
           {
            "bin_end": 48,
            "bin_start": 47,
            "count": 0
           },
           {
            "bin_end": 49,
            "bin_start": 48,
            "count": 0
           },
           {
            "bin_end": 50,
            "bin_start": 49,
            "count": 2
           }
          ],
          "max": "50.0",
          "min": "40.0",
          "nan_count": 0,
          "unique_count": 2
         }
        },
        {
         "dtype": "float64",
         "name": "Units_Sold",
         "stats": {
          "histogram": [
           {
            "bin_end": 1020,
            "bin_start": 1000,
            "count": 2
           },
           {
            "bin_end": 1040,
            "bin_start": 1020,
            "count": 0
           },
           {
            "bin_end": 1060,
            "bin_start": 1040,
            "count": 0
           },
           {
            "bin_end": 1080,
            "bin_start": 1060,
            "count": 0
           },
           {
            "bin_end": 1100,
            "bin_start": 1080,
            "count": 0
           },
           {
            "bin_end": 1120,
            "bin_start": 1100,
            "count": 0
           },
           {
            "bin_end": 1140,
            "bin_start": 1120,
            "count": 0
           },
           {
            "bin_end": 1160,
            "bin_start": 1140,
            "count": 0
           },
           {
            "bin_end": 1180,
            "bin_start": 1160,
            "count": 0
           },
           {
            "bin_end": 1200,
            "bin_start": 1180,
            "count": 1
           }
          ],
          "max": "1200.0",
          "min": "1000.0",
          "nan_count": 0,
          "unique_count": 2
         }
        },
        {
         "dtype": "float64",
         "name": "Total_Sales",
         "stats": {
          "histogram": [
           {
            "bin_end": 42000,
            "bin_start": 40000,
            "count": 1
           },
           {
            "bin_end": 44000,
            "bin_start": 42000,
            "count": 0
           },
           {
            "bin_end": 46000,
            "bin_start": 44000,
            "count": 0
           },
           {
            "bin_end": 48000,
            "bin_start": 46000,
            "count": 0
           },
           {
            "bin_end": 50000,
            "bin_start": 48000,
            "count": 0
           },
           {
            "bin_end": 52000,
            "bin_start": 50000,
            "count": 1
           },
           {
            "bin_end": 54000,
            "bin_start": 52000,
            "count": 0
           },
           {
            "bin_end": 56000,
            "bin_start": 54000,
            "count": 0
           },
           {
            "bin_end": 58000,
            "bin_start": 56000,
            "count": 0
           },
           {
            "bin_end": 60000,
            "bin_start": 58000,
            "count": 1
           }
          ],
          "max": "60000.0",
          "min": "40000.0",
          "nan_count": 0,
          "unique_count": 3
         }
        },
        {
         "dtype": "float64",
         "name": "Operating_Profit",
         "stats": {
          "histogram": [
           {
            "bin_end": 15600,
            "bin_start": 14000,
            "count": 2
           },
           {
            "bin_end": 17200,
            "bin_start": 15600,
            "count": 0
           },
           {
            "bin_end": 18800,
            "bin_start": 17200,
            "count": 0
           },
           {
            "bin_end": 20400,
            "bin_start": 18800,
            "count": 0
           },
           {
            "bin_end": 22000,
            "bin_start": 20400,
            "count": 0
           },
           {
            "bin_end": 23600,
            "bin_start": 22000,
            "count": 0
           },
           {
            "bin_end": 25200,
            "bin_start": 23600,
            "count": 0
           },
           {
            "bin_end": 26800,
            "bin_start": 25200,
            "count": 0
           },
           {
            "bin_end": 28400,
            "bin_start": 26800,
            "count": 0
           },
           {
            "bin_end": 30000,
            "bin_start": 28400,
            "count": 1
           }
          ],
          "max": "30000.0",
          "min": "14000.0",
          "nan_count": 0,
          "unique_count": 3
         }
        },
        {
         "dtype": "float64",
         "name": "Operating_Margin",
         "stats": {
          "histogram": [
           {
            "bin_end": 32,
            "bin_start": 30,
            "count": 1
           },
           {
            "bin_end": 34,
            "bin_start": 32,
            "count": 0
           },
           {
            "bin_end": 36,
            "bin_start": 34,
            "count": 1
           },
           {
            "bin_end": 38,
            "bin_start": 36,
            "count": 0
           },
           {
            "bin_end": 40,
            "bin_start": 38,
            "count": 0
           },
           {
            "bin_end": 42,
            "bin_start": 40,
            "count": 0
           },
           {
            "bin_end": 44,
            "bin_start": 42,
            "count": 0
           },
           {
            "bin_end": 46,
            "bin_start": 44,
            "count": 0
           },
           {
            "bin_end": 48,
            "bin_start": 46,
            "count": 0
           },
           {
            "bin_end": 50,
            "bin_start": 48,
            "count": 1
           }
          ],
          "max": "50.0",
          "min": "30.0",
          "nan_count": 0,
          "unique_count": 3
         }
        },
        {
         "dtype": "object",
         "name": "Sales_Method",
         "stats": {
          "categories": [
           {
            "count": 3,
            "name": "In-store"
           }
          ],
          "nan_count": 0,
          "unique_count": 1
         }
        },
        {
         "dtype": "int64",
         "name": "_deepnote_index_column"
        }
       ],
       "row_count": 3,
       "rows": [
        {
         "City": "New York",
         "Invoice_Date": "01-01-2020",
         "Operating_Margin": 50,
         "Operating_Profit": 30000,
         "Price_per_Unit": 50,
         "Product": "Men's Street Footwear",
         "Region": "Northeast",
         "Retailer": "Foot Locker",
         "Retailer_ID": 1185732,
         "Sales_Method": "In-store",
         "State": "New York",
         "Total_Sales": 60000,
         "Units_Sold": 1200,
         "_deepnote_index_column": 0
        },
        {
         "City": "New York",
         "Invoice_Date": "02-01-2020",
         "Operating_Margin": 30,
         "Operating_Profit": 15000,
         "Price_per_Unit": 50,
         "Product": "Men's Athletic Footwear",
         "Region": "Northeast",
         "Retailer": "Foot Locker",
         "Retailer_ID": 1185732,
         "Sales_Method": "In-store",
         "State": "New York",
         "Total_Sales": 50000,
         "Units_Sold": 1000,
         "_deepnote_index_column": 1
        },
        {
         "City": "New York",
         "Invoice_Date": "03-01-2020",
         "Operating_Margin": 35,
         "Operating_Profit": 14000,
         "Price_per_Unit": 40,
         "Product": "Women's Street Footwear",
         "Region": "Northeast",
         "Retailer": "Foot Locker",
         "Retailer_ID": 1185732,
         "Sales_Method": "In-store",
         "State": "New York",
         "Total_Sales": 40000,
         "Units_Sold": 1000,
         "_deepnote_index_column": 2
        }
       ]
      },
      "text/html": [
       "<div>\n",
       "<style scoped>\n",
       "    .dataframe tbody tr th:only-of-type {\n",
       "        vertical-align: middle;\n",
       "    }\n",
       "\n",
       "    .dataframe tbody tr th {\n",
       "        vertical-align: top;\n",
       "    }\n",
       "\n",
       "    .dataframe thead th {\n",
       "        text-align: right;\n",
       "    }\n",
       "</style>\n",
       "<table border=\"1\" class=\"dataframe\">\n",
       "  <thead>\n",
       "    <tr style=\"text-align: right;\">\n",
       "      <th></th>\n",
       "      <th>Retailer</th>\n",
       "      <th>Retailer_ID</th>\n",
       "      <th>Invoice_Date</th>\n",
       "      <th>Region</th>\n",
       "      <th>State</th>\n",
       "      <th>City</th>\n",
       "      <th>Product</th>\n",
       "      <th>Price_per_Unit</th>\n",
       "      <th>Units_Sold</th>\n",
       "      <th>Total_Sales</th>\n",
       "      <th>Operating_Profit</th>\n",
       "      <th>Operating_Margin</th>\n",
       "      <th>Sales_Method</th>\n",
       "    </tr>\n",
       "  </thead>\n",
       "  <tbody>\n",
       "    <tr>\n",
       "      <th>0</th>\n",
       "      <td>Foot Locker</td>\n",
       "      <td>1185732</td>\n",
       "      <td>01-01-2020</td>\n",
       "      <td>Northeast</td>\n",
       "      <td>New York</td>\n",
       "      <td>New York</td>\n",
       "      <td>Men's Street Footwear</td>\n",
       "      <td>50.0</td>\n",
       "      <td>1200.0</td>\n",
       "      <td>60000.0</td>\n",
       "      <td>30000.0</td>\n",
       "      <td>50.0</td>\n",
       "      <td>In-store</td>\n",
       "    </tr>\n",
       "    <tr>\n",
       "      <th>1</th>\n",
       "      <td>Foot Locker</td>\n",
       "      <td>1185732</td>\n",
       "      <td>02-01-2020</td>\n",
       "      <td>Northeast</td>\n",
       "      <td>New York</td>\n",
       "      <td>New York</td>\n",
       "      <td>Men's Athletic Footwear</td>\n",
       "      <td>50.0</td>\n",
       "      <td>1000.0</td>\n",
       "      <td>50000.0</td>\n",
       "      <td>15000.0</td>\n",
       "      <td>30.0</td>\n",
       "      <td>In-store</td>\n",
       "    </tr>\n",
       "    <tr>\n",
       "      <th>2</th>\n",
       "      <td>Foot Locker</td>\n",
       "      <td>1185732</td>\n",
       "      <td>03-01-2020</td>\n",
       "      <td>Northeast</td>\n",
       "      <td>New York</td>\n",
       "      <td>New York</td>\n",
       "      <td>Women's Street Footwear</td>\n",
       "      <td>40.0</td>\n",
       "      <td>1000.0</td>\n",
       "      <td>40000.0</td>\n",
       "      <td>14000.0</td>\n",
       "      <td>35.0</td>\n",
       "      <td>In-store</td>\n",
       "    </tr>\n",
       "  </tbody>\n",
       "</table>\n",
       "</div>"
      ],
      "text/plain": [
       "      Retailer  Retailer_ID Invoice_Date     Region     State      City  \\\n",
       "0  Foot Locker      1185732   01-01-2020  Northeast  New York  New York   \n",
       "1  Foot Locker      1185732   02-01-2020  Northeast  New York  New York   \n",
       "2  Foot Locker      1185732   03-01-2020  Northeast  New York  New York   \n",
       "\n",
       "                   Product  Price_per_Unit  Units_Sold  Total_Sales  \\\n",
       "0    Men's Street Footwear            50.0      1200.0      60000.0   \n",
       "1  Men's Athletic Footwear            50.0      1000.0      50000.0   \n",
       "2  Women's Street Footwear            40.0      1000.0      40000.0   \n",
       "\n",
       "   Operating_Profit  Operating_Margin Sales_Method  \n",
       "0           30000.0              50.0     In-store  \n",
       "1           15000.0              30.0     In-store  \n",
       "2           14000.0              35.0     In-store  "
      ]
     },
     "execution_count": 6,
     "metadata": {},
     "output_type": "execute_result"
    }
   ],
   "source": [
    "df_clean = df\n",
    "df_clean['Total_Sales'] = df_clean['Price_per_Unit'] * df_clean['Units_Sold']\n",
    "df_clean['Operating_Profit'] = df_clean['Total_Sales'] * df_clean['Operating_Margin']/100\n",
    "df_clean.head(3)\n",
    "#The columns are now corrected and stored in a new dataframe called 'df_clean'\n",
    "#The total sales and operating profit doesn't  match the actual value. That is why we have created another data frame."
   ]
  },
  {
   "cell_type": "code",
   "execution_count": 7,
   "metadata": {
    "cell_id": "d2d08d87829e47799c128d6535b5d45a",
    "deepnote_cell_type": "code",
    "deepnote_to_be_reexecuted": false,
    "execution_millis": 17,
    "execution_start": 1703563165140,
    "source_hash": "9460f21c"
   },
   "outputs": [
    {
     "data": {
      "application/vnd.deepnote.dataframe.v3+json": {
       "column_count": 13,
       "columns": [
        {
         "dtype": "object",
         "name": "Retailer",
         "stats": {
          "categories": [
           {
            "count": 3,
            "name": "foot locker"
           }
          ],
          "nan_count": 0,
          "unique_count": 1
         }
        },
        {
         "dtype": "int64",
         "name": "Retailer_ID",
         "stats": {
          "histogram": [
           {
            "bin_end": 1185731.6,
            "bin_start": 1185731.5,
            "count": 0
           },
           {
            "bin_end": 1185731.7,
            "bin_start": 1185731.6,
            "count": 0
           },
           {
            "bin_end": 1185731.8,
            "bin_start": 1185731.7,
            "count": 0
           },
           {
            "bin_end": 1185731.9,
            "bin_start": 1185731.8,
            "count": 0
           },
           {
            "bin_end": 1185732,
            "bin_start": 1185731.9,
            "count": 0
           },
           {
            "bin_end": 1185732.1,
            "bin_start": 1185732,
            "count": 3
           },
           {
            "bin_end": 1185732.2,
            "bin_start": 1185732.1,
            "count": 0
           },
           {
            "bin_end": 1185732.3,
            "bin_start": 1185732.2,
            "count": 0
           },
           {
            "bin_end": 1185732.4,
            "bin_start": 1185732.3,
            "count": 0
           },
           {
            "bin_end": 1185732.5,
            "bin_start": 1185732.4,
            "count": 0
           }
          ],
          "max": "1185732",
          "min": "1185732",
          "nan_count": 0,
          "unique_count": 1
         }
        },
        {
         "dtype": "object",
         "name": "Invoice_Date",
         "stats": {
          "categories": [
           {
            "count": 1,
            "name": "01-01-2020"
           },
           {
            "count": 1,
            "name": "02-01-2020"
           },
           {
            "count": 1,
            "name": "03-01-2020"
           }
          ],
          "nan_count": 0,
          "unique_count": 3
         }
        },
        {
         "dtype": "object",
         "name": "Region",
         "stats": {
          "categories": [
           {
            "count": 3,
            "name": "northeast"
           }
          ],
          "nan_count": 0,
          "unique_count": 1
         }
        },
        {
         "dtype": "object",
         "name": "State",
         "stats": {
          "categories": [
           {
            "count": 3,
            "name": "new york"
           }
          ],
          "nan_count": 0,
          "unique_count": 1
         }
        },
        {
         "dtype": "object",
         "name": "City",
         "stats": {
          "categories": [
           {
            "count": 3,
            "name": "new york"
           }
          ],
          "nan_count": 0,
          "unique_count": 1
         }
        },
        {
         "dtype": "object",
         "name": "Product",
         "stats": {
          "categories": [
           {
            "count": 1,
            "name": "men's street footwear"
           },
           {
            "count": 1,
            "name": "men's athletic footwear"
           },
           {
            "count": 1,
            "name": "women's street footwear"
           }
          ],
          "nan_count": 0,
          "unique_count": 3
         }
        },
        {
         "dtype": "float64",
         "name": "Price_per_Unit",
         "stats": {
          "histogram": [
           {
            "bin_end": 41,
            "bin_start": 40,
            "count": 1
           },
           {
            "bin_end": 42,
            "bin_start": 41,
            "count": 0
           },
           {
            "bin_end": 43,
            "bin_start": 42,
            "count": 0
           },
           {
            "bin_end": 44,
            "bin_start": 43,
            "count": 0
           },
           {
            "bin_end": 45,
            "bin_start": 44,
            "count": 0
           },
           {
            "bin_end": 46,
            "bin_start": 45,
            "count": 0
           },
           {
            "bin_end": 47,
            "bin_start": 46,
            "count": 0
           },
           {
            "bin_end": 48,
            "bin_start": 47,
            "count": 0
           },
           {
            "bin_end": 49,
            "bin_start": 48,
            "count": 0
           },
           {
            "bin_end": 50,
            "bin_start": 49,
            "count": 2
           }
          ],
          "max": "50.0",
          "min": "40.0",
          "nan_count": 0,
          "unique_count": 2
         }
        },
        {
         "dtype": "float64",
         "name": "Units_Sold",
         "stats": {
          "histogram": [
           {
            "bin_end": 1020,
            "bin_start": 1000,
            "count": 2
           },
           {
            "bin_end": 1040,
            "bin_start": 1020,
            "count": 0
           },
           {
            "bin_end": 1060,
            "bin_start": 1040,
            "count": 0
           },
           {
            "bin_end": 1080,
            "bin_start": 1060,
            "count": 0
           },
           {
            "bin_end": 1100,
            "bin_start": 1080,
            "count": 0
           },
           {
            "bin_end": 1120,
            "bin_start": 1100,
            "count": 0
           },
           {
            "bin_end": 1140,
            "bin_start": 1120,
            "count": 0
           },
           {
            "bin_end": 1160,
            "bin_start": 1140,
            "count": 0
           },
           {
            "bin_end": 1180,
            "bin_start": 1160,
            "count": 0
           },
           {
            "bin_end": 1200,
            "bin_start": 1180,
            "count": 1
           }
          ],
          "max": "1200.0",
          "min": "1000.0",
          "nan_count": 0,
          "unique_count": 2
         }
        },
        {
         "dtype": "float64",
         "name": "Total_Sales",
         "stats": {
          "histogram": [
           {
            "bin_end": 42000,
            "bin_start": 40000,
            "count": 1
           },
           {
            "bin_end": 44000,
            "bin_start": 42000,
            "count": 0
           },
           {
            "bin_end": 46000,
            "bin_start": 44000,
            "count": 0
           },
           {
            "bin_end": 48000,
            "bin_start": 46000,
            "count": 0
           },
           {
            "bin_end": 50000,
            "bin_start": 48000,
            "count": 0
           },
           {
            "bin_end": 52000,
            "bin_start": 50000,
            "count": 1
           },
           {
            "bin_end": 54000,
            "bin_start": 52000,
            "count": 0
           },
           {
            "bin_end": 56000,
            "bin_start": 54000,
            "count": 0
           },
           {
            "bin_end": 58000,
            "bin_start": 56000,
            "count": 0
           },
           {
            "bin_end": 60000,
            "bin_start": 58000,
            "count": 1
           }
          ],
          "max": "60000.0",
          "min": "40000.0",
          "nan_count": 0,
          "unique_count": 3
         }
        },
        {
         "dtype": "float64",
         "name": "Operating_Profit",
         "stats": {
          "histogram": [
           {
            "bin_end": 15600,
            "bin_start": 14000,
            "count": 2
           },
           {
            "bin_end": 17200,
            "bin_start": 15600,
            "count": 0
           },
           {
            "bin_end": 18800,
            "bin_start": 17200,
            "count": 0
           },
           {
            "bin_end": 20400,
            "bin_start": 18800,
            "count": 0
           },
           {
            "bin_end": 22000,
            "bin_start": 20400,
            "count": 0
           },
           {
            "bin_end": 23600,
            "bin_start": 22000,
            "count": 0
           },
           {
            "bin_end": 25200,
            "bin_start": 23600,
            "count": 0
           },
           {
            "bin_end": 26800,
            "bin_start": 25200,
            "count": 0
           },
           {
            "bin_end": 28400,
            "bin_start": 26800,
            "count": 0
           },
           {
            "bin_end": 30000,
            "bin_start": 28400,
            "count": 1
           }
          ],
          "max": "30000.0",
          "min": "14000.0",
          "nan_count": 0,
          "unique_count": 3
         }
        },
        {
         "dtype": "float64",
         "name": "Operating_Margin",
         "stats": {
          "histogram": [
           {
            "bin_end": 32,
            "bin_start": 30,
            "count": 1
           },
           {
            "bin_end": 34,
            "bin_start": 32,
            "count": 0
           },
           {
            "bin_end": 36,
            "bin_start": 34,
            "count": 1
           },
           {
            "bin_end": 38,
            "bin_start": 36,
            "count": 0
           },
           {
            "bin_end": 40,
            "bin_start": 38,
            "count": 0
           },
           {
            "bin_end": 42,
            "bin_start": 40,
            "count": 0
           },
           {
            "bin_end": 44,
            "bin_start": 42,
            "count": 0
           },
           {
            "bin_end": 46,
            "bin_start": 44,
            "count": 0
           },
           {
            "bin_end": 48,
            "bin_start": 46,
            "count": 0
           },
           {
            "bin_end": 50,
            "bin_start": 48,
            "count": 1
           }
          ],
          "max": "50.0",
          "min": "30.0",
          "nan_count": 0,
          "unique_count": 3
         }
        },
        {
         "dtype": "object",
         "name": "Sales_Method",
         "stats": {
          "categories": [
           {
            "count": 3,
            "name": "in-store"
           }
          ],
          "nan_count": 0,
          "unique_count": 1
         }
        },
        {
         "dtype": "int64",
         "name": "_deepnote_index_column"
        }
       ],
       "row_count": 3,
       "rows": [
        {
         "City": "new york",
         "Invoice_Date": "01-01-2020",
         "Operating_Margin": 50,
         "Operating_Profit": 30000,
         "Price_per_Unit": 50,
         "Product": "men's street footwear",
         "Region": "northeast",
         "Retailer": "foot locker",
         "Retailer_ID": 1185732,
         "Sales_Method": "in-store",
         "State": "new york",
         "Total_Sales": 60000,
         "Units_Sold": 1200,
         "_deepnote_index_column": 0
        },
        {
         "City": "new york",
         "Invoice_Date": "02-01-2020",
         "Operating_Margin": 30,
         "Operating_Profit": 15000,
         "Price_per_Unit": 50,
         "Product": "men's athletic footwear",
         "Region": "northeast",
         "Retailer": "foot locker",
         "Retailer_ID": 1185732,
         "Sales_Method": "in-store",
         "State": "new york",
         "Total_Sales": 50000,
         "Units_Sold": 1000,
         "_deepnote_index_column": 1
        },
        {
         "City": "new york",
         "Invoice_Date": "03-01-2020",
         "Operating_Margin": 35,
         "Operating_Profit": 14000,
         "Price_per_Unit": 40,
         "Product": "women's street footwear",
         "Region": "northeast",
         "Retailer": "foot locker",
         "Retailer_ID": 1185732,
         "Sales_Method": "in-store",
         "State": "new york",
         "Total_Sales": 40000,
         "Units_Sold": 1000,
         "_deepnote_index_column": 2
        }
       ]
      },
      "text/html": [
       "<div>\n",
       "<style scoped>\n",
       "    .dataframe tbody tr th:only-of-type {\n",
       "        vertical-align: middle;\n",
       "    }\n",
       "\n",
       "    .dataframe tbody tr th {\n",
       "        vertical-align: top;\n",
       "    }\n",
       "\n",
       "    .dataframe thead th {\n",
       "        text-align: right;\n",
       "    }\n",
       "</style>\n",
       "<table border=\"1\" class=\"dataframe\">\n",
       "  <thead>\n",
       "    <tr style=\"text-align: right;\">\n",
       "      <th></th>\n",
       "      <th>Retailer</th>\n",
       "      <th>Retailer_ID</th>\n",
       "      <th>Invoice_Date</th>\n",
       "      <th>Region</th>\n",
       "      <th>State</th>\n",
       "      <th>City</th>\n",
       "      <th>Product</th>\n",
       "      <th>Price_per_Unit</th>\n",
       "      <th>Units_Sold</th>\n",
       "      <th>Total_Sales</th>\n",
       "      <th>Operating_Profit</th>\n",
       "      <th>Operating_Margin</th>\n",
       "      <th>Sales_Method</th>\n",
       "    </tr>\n",
       "  </thead>\n",
       "  <tbody>\n",
       "    <tr>\n",
       "      <th>0</th>\n",
       "      <td>foot locker</td>\n",
       "      <td>1185732</td>\n",
       "      <td>01-01-2020</td>\n",
       "      <td>northeast</td>\n",
       "      <td>new york</td>\n",
       "      <td>new york</td>\n",
       "      <td>men's street footwear</td>\n",
       "      <td>50.0</td>\n",
       "      <td>1200.0</td>\n",
       "      <td>60000.0</td>\n",
       "      <td>30000.0</td>\n",
       "      <td>50.0</td>\n",
       "      <td>in-store</td>\n",
       "    </tr>\n",
       "    <tr>\n",
       "      <th>1</th>\n",
       "      <td>foot locker</td>\n",
       "      <td>1185732</td>\n",
       "      <td>02-01-2020</td>\n",
       "      <td>northeast</td>\n",
       "      <td>new york</td>\n",
       "      <td>new york</td>\n",
       "      <td>men's athletic footwear</td>\n",
       "      <td>50.0</td>\n",
       "      <td>1000.0</td>\n",
       "      <td>50000.0</td>\n",
       "      <td>15000.0</td>\n",
       "      <td>30.0</td>\n",
       "      <td>in-store</td>\n",
       "    </tr>\n",
       "    <tr>\n",
       "      <th>2</th>\n",
       "      <td>foot locker</td>\n",
       "      <td>1185732</td>\n",
       "      <td>03-01-2020</td>\n",
       "      <td>northeast</td>\n",
       "      <td>new york</td>\n",
       "      <td>new york</td>\n",
       "      <td>women's street footwear</td>\n",
       "      <td>40.0</td>\n",
       "      <td>1000.0</td>\n",
       "      <td>40000.0</td>\n",
       "      <td>14000.0</td>\n",
       "      <td>35.0</td>\n",
       "      <td>in-store</td>\n",
       "    </tr>\n",
       "  </tbody>\n",
       "</table>\n",
       "</div>"
      ],
      "text/plain": [
       "      Retailer  Retailer_ID Invoice_Date     Region     State      City  \\\n",
       "0  foot locker      1185732   01-01-2020  northeast  new york  new york   \n",
       "1  foot locker      1185732   02-01-2020  northeast  new york  new york   \n",
       "2  foot locker      1185732   03-01-2020  northeast  new york  new york   \n",
       "\n",
       "                   Product  Price_per_Unit  Units_Sold  Total_Sales  \\\n",
       "0    men's street footwear            50.0      1200.0      60000.0   \n",
       "1  men's athletic footwear            50.0      1000.0      50000.0   \n",
       "2  women's street footwear            40.0      1000.0      40000.0   \n",
       "\n",
       "   Operating_Profit  Operating_Margin Sales_Method  \n",
       "0           30000.0              50.0     in-store  \n",
       "1           15000.0              30.0     in-store  \n",
       "2           14000.0              35.0     in-store  "
      ]
     },
     "execution_count": 7,
     "metadata": {},
     "output_type": "execute_result"
    }
   ],
   "source": [
    "for column in df_clean.columns:\n",
    "    if df_clean[column].dtype == 'O':\n",
    "        df_clean[column] = df_clean[column].str.lower()\n",
    "df_clean.head(3)\n",
    "#Converting all strings to lower case to maintain consistency."
   ]
  },
  {
   "cell_type": "code",
   "execution_count": 8,
   "metadata": {
    "cell_id": "b18348fc863f4d76a6b4e6ddf3df29be",
    "deepnote_cell_type": "code",
    "deepnote_to_be_reexecuted": false,
    "execution_millis": 17,
    "execution_start": 1703563165187,
    "source_hash": "6842616d"
   },
   "outputs": [
    {
     "name": "stdout",
     "output_type": "stream",
     "text": [
      "<class 'pandas.core.frame.DataFrame'>\n",
      "RangeIndex: 9648 entries, 0 to 9647\n",
      "Data columns (total 13 columns):\n",
      " #   Column            Non-Null Count  Dtype         \n",
      "---  ------            --------------  -----         \n",
      " 0   Retailer          9648 non-null   object        \n",
      " 1   Retailer_ID       9648 non-null   int64         \n",
      " 2   Invoice_Date      9648 non-null   datetime64[ns]\n",
      " 3   Region            9648 non-null   object        \n",
      " 4   State             9648 non-null   object        \n",
      " 5   City              9648 non-null   object        \n",
      " 6   Product           9648 non-null   object        \n",
      " 7   Price_per_Unit    9648 non-null   float64       \n",
      " 8   Units_Sold        9648 non-null   float64       \n",
      " 9   Total_Sales       9648 non-null   float64       \n",
      " 10  Operating_Profit  9648 non-null   float64       \n",
      " 11  Operating_Margin  9648 non-null   float64       \n",
      " 12  Sales_Method      9648 non-null   object        \n",
      "dtypes: datetime64[ns](1), float64(5), int64(1), object(6)\n",
      "memory usage: 980.0+ KB\n"
     ]
    }
   ],
   "source": [
    "df_clean['Invoice_Date'] = pd.to_datetime(df_clean['Invoice_Date'], format=\"%d-%m-%Y\")\n",
    "#Converting Invoice Date to datetime format\n",
    "df_clean.info()\n",
    "#The new dataframe has all the columns of proper data types"
   ]
  },
  {
   "cell_type": "code",
   "execution_count": 9,
   "metadata": {
    "cell_id": "d5b8c92031d44b87bde4e0f5e376b866",
    "deepnote_cell_type": "code",
    "deepnote_to_be_reexecuted": false,
    "execution_millis": 24,
    "execution_start": 1703563165200,
    "source_hash": "f6ccc18a"
   },
   "outputs": [
    {
     "data": {
      "text/plain": [
       "(9648, 13)"
      ]
     },
     "execution_count": 9,
     "metadata": {},
     "output_type": "execute_result"
    }
   ],
   "source": [
    "df_clean.drop_duplicates(inplace = True)\n",
    "df_clean.shape\n",
    "#There are No Duplicate Rows in the Dataset"
   ]
  },
  {
   "cell_type": "code",
   "execution_count": 10,
   "metadata": {
    "cell_id": "b1a0d214fc7843738dd48c3648d2ff8b",
    "deepnote_cell_type": "code",
    "deepnote_to_be_reexecuted": false,
    "execution_millis": 54,
    "execution_start": 1703563165271,
    "source_hash": "4050c17a"
   },
   "outputs": [
    {
     "data": {
      "text/plain": [
       "City                1\n",
       "State               1\n",
       "Retailer            1\n",
       "Price_per_Unit      1\n",
       "Region              1\n",
       "Retailer_ID         1\n",
       "Operating_Profit    1\n",
       "Total_Sales         1\n",
       "Invoice_Date        1\n",
       "Product             1\n",
       "Units_Sold          1\n",
       "Operating_Margin    1\n",
       "Sales_Method        1\n",
       "dtype: int64"
      ]
     },
     "execution_count": 10,
     "metadata": {},
     "output_type": "execute_result"
    }
   ],
   "source": [
    "df_clean.columns.value_counts()\n",
    "#There are No Duplicate Columns in the Dataset"
   ]
  },
  {
   "cell_type": "code",
   "execution_count": 11,
   "metadata": {
    "cell_id": "81ac4b9143f249f4b4c036b83c73dac3",
    "deepnote_cell_type": "code",
    "deepnote_to_be_reexecuted": false,
    "execution_millis": 54,
    "execution_start": 1703563165272,
    "source_hash": "3405ff62"
   },
   "outputs": [
    {
     "data": {
      "text/plain": [
       "Retailer            0\n",
       "Retailer_ID         0\n",
       "Invoice_Date        0\n",
       "Region              0\n",
       "State               0\n",
       "City                0\n",
       "Product             0\n",
       "Price_per_Unit      0\n",
       "Units_Sold          0\n",
       "Total_Sales         0\n",
       "Operating_Profit    0\n",
       "Operating_Margin    0\n",
       "Sales_Method        0\n",
       "dtype: int64"
      ]
     },
     "execution_count": 11,
     "metadata": {},
     "output_type": "execute_result"
    }
   ],
   "source": [
    "df_clean.isnull().sum()\n",
    "#There are no null values in the data set"
   ]
  },
  {
   "cell_type": "markdown",
   "metadata": {
    "cell_id": "5330f46ccc7e46aca0e29ebeb632b6f6",
    "deepnote_cell_type": "markdown"
   },
   "source": [
    "## 4. Exploratory Data Analysis"
   ]
  },
  {
   "cell_type": "code",
   "execution_count": 12,
   "metadata": {
    "cell_id": "c28f7f86ff71477b817e63c98cd6dfea",
    "deepnote_cell_type": "code",
    "deepnote_to_be_reexecuted": false,
    "execution_millis": 49,
    "execution_start": 1703563165275,
    "source_hash": "e315bb47"
   },
   "outputs": [
    {
     "data": {
      "application/vnd.deepnote.dataframe.v3+json": {
       "column_count": 6,
       "columns": [
        {
         "dtype": "float64",
         "name": "Retailer_ID",
         "stats": {
          "histogram": [
           {
            "bin_end": 128466.3,
            "bin_start": 9648,
            "count": 2
           },
           {
            "bin_end": 247284.6,
            "bin_start": 128466.3,
            "count": 0
           },
           {
            "bin_end": 366102.9,
            "bin_start": 247284.6,
            "count": 0
           },
           {
            "bin_end": 484921.2,
            "bin_start": 366102.9,
            "count": 0
           },
           {
            "bin_end": 603739.5,
            "bin_start": 484921.2,
            "count": 0
           },
           {
            "bin_end": 722557.8,
            "bin_start": 603739.5,
            "count": 0
           },
           {
            "bin_end": 841376.1,
            "bin_start": 722557.8,
            "count": 0
           },
           {
            "bin_end": 960194.4,
            "bin_start": 841376.1,
            "count": 0
           },
           {
            "bin_end": 1079012.7,
            "bin_start": 960194.4,
            "count": 0
           },
           {
            "bin_end": 1197831,
            "bin_start": 1079012.7,
            "count": 6
           }
          ],
          "max": "1197831.0",
          "min": "9648.0",
          "nan_count": 0,
          "unique_count": 6
         }
        },
        {
         "dtype": "float64",
         "name": "Price_per_Unit",
         "stats": {
          "histogram": [
           {
            "bin_end": 971.1,
            "bin_start": 7,
            "count": 7
           },
           {
            "bin_end": 1935.2,
            "bin_start": 971.1,
            "count": 0
           },
           {
            "bin_end": 2899.3,
            "bin_start": 1935.2,
            "count": 0
           },
           {
            "bin_end": 3863.4,
            "bin_start": 2899.3,
            "count": 0
           },
           {
            "bin_end": 4827.5,
            "bin_start": 3863.4,
            "count": 0
           },
           {
            "bin_end": 5791.6,
            "bin_start": 4827.5,
            "count": 0
           },
           {
            "bin_end": 6755.7,
            "bin_start": 5791.6,
            "count": 0
           },
           {
            "bin_end": 7719.8,
            "bin_start": 6755.7,
            "count": 0
           },
           {
            "bin_end": 8683.9,
            "bin_start": 7719.8,
            "count": 0
           },
           {
            "bin_end": 9648,
            "bin_start": 8683.9,
            "count": 1
           }
          ],
          "max": "9648.0",
          "min": "7.0",
          "nan_count": 0,
          "unique_count": 8
         }
        },
        {
         "dtype": "float64",
         "name": "Units_Sold",
         "stats": {
          "histogram": [
           {
            "bin_end": 964.8,
            "bin_start": 0,
            "count": 6
           },
           {
            "bin_end": 1929.6,
            "bin_start": 964.8,
            "count": 1
           },
           {
            "bin_end": 2894.3999999999996,
            "bin_start": 1929.6,
            "count": 0
           },
           {
            "bin_end": 3859.2,
            "bin_start": 2894.3999999999996,
            "count": 0
           },
           {
            "bin_end": 4824,
            "bin_start": 3859.2,
            "count": 0
           },
           {
            "bin_end": 5788.799999999999,
            "bin_start": 4824,
            "count": 0
           },
           {
            "bin_end": 6753.599999999999,
            "bin_start": 5788.799999999999,
            "count": 0
           },
           {
            "bin_end": 7718.4,
            "bin_start": 6753.599999999999,
            "count": 0
           },
           {
            "bin_end": 8683.199999999999,
            "bin_start": 7718.4,
            "count": 0
           },
           {
            "bin_end": 9648,
            "bin_start": 8683.199999999999,
            "count": 1
           }
          ],
          "max": "9648.0",
          "min": "0.0",
          "nan_count": 0,
          "unique_count": 8
         }
        },
        {
         "dtype": "float64",
         "name": "Total_Sales",
         "stats": {
          "histogram": [
           {
            "bin_end": 8250,
            "bin_start": 0,
            "count": 3
           },
           {
            "bin_end": 16500,
            "bin_start": 8250,
            "count": 4
           },
           {
            "bin_end": 24750,
            "bin_start": 16500,
            "count": 0
           },
           {
            "bin_end": 33000,
            "bin_start": 24750,
            "count": 0
           },
           {
            "bin_end": 41250,
            "bin_start": 33000,
            "count": 0
           },
           {
            "bin_end": 49500,
            "bin_start": 41250,
            "count": 0
           },
           {
            "bin_end": 57750,
            "bin_start": 49500,
            "count": 0
           },
           {
            "bin_end": 66000,
            "bin_start": 57750,
            "count": 0
           },
           {
            "bin_end": 74250,
            "bin_start": 66000,
            "count": 0
           },
           {
            "bin_end": 82500,
            "bin_start": 74250,
            "count": 1
           }
          ],
          "max": "82500.0",
          "min": "0.0",
          "nan_count": 0,
          "unique_count": 8
         }
        },
        {
         "dtype": "float64",
         "name": "Operating_Profit",
         "stats": {
          "histogram": [
           {
            "bin_end": 3900,
            "bin_start": 0,
            "count": 3
           },
           {
            "bin_end": 7800,
            "bin_start": 3900,
            "count": 3
           },
           {
            "bin_end": 11700,
            "bin_start": 7800,
            "count": 1
           },
           {
            "bin_end": 15600,
            "bin_start": 11700,
            "count": 0
           },
           {
            "bin_end": 19500,
            "bin_start": 15600,
            "count": 0
           },
           {
            "bin_end": 23400,
            "bin_start": 19500,
            "count": 0
           },
           {
            "bin_end": 27300,
            "bin_start": 23400,
            "count": 0
           },
           {
            "bin_end": 31200,
            "bin_start": 27300,
            "count": 0
           },
           {
            "bin_end": 35100,
            "bin_start": 31200,
            "count": 0
           },
           {
            "bin_end": 39000,
            "bin_start": 35100,
            "count": 1
           }
          ],
          "max": "39000.0",
          "min": "0.0",
          "nan_count": 0,
          "unique_count": 8
         }
        },
        {
         "dtype": "float64",
         "name": "Operating_Margin",
         "stats": {
          "histogram": [
           {
            "bin_end": 973.5477676654596,
            "bin_start": 9.719741850510681,
            "count": 7
           },
           {
            "bin_end": 1937.3757934804084,
            "bin_start": 973.5477676654596,
            "count": 0
           },
           {
            "bin_end": 2901.2038192953573,
            "bin_start": 1937.3757934804084,
            "count": 0
           },
           {
            "bin_end": 3865.031845110306,
            "bin_start": 2901.2038192953573,
            "count": 0
           },
           {
            "bin_end": 4828.859870925256,
            "bin_start": 3865.031845110306,
            "count": 0
           },
           {
            "bin_end": 5792.687896740204,
            "bin_start": 4828.859870925256,
            "count": 0
           },
           {
            "bin_end": 6756.515922555153,
            "bin_start": 5792.687896740204,
            "count": 0
           },
           {
            "bin_end": 7720.343948370102,
            "bin_start": 6756.515922555153,
            "count": 0
           },
           {
            "bin_end": 8684.171974185052,
            "bin_start": 7720.343948370102,
            "count": 0
           },
           {
            "bin_end": 9648,
            "bin_start": 8684.171974185052,
            "count": 1
           }
          ],
          "max": "9648.0",
          "min": "9.719741850510681",
          "nan_count": 0,
          "unique_count": 8
         }
        },
        {
         "dtype": "object",
         "name": "_deepnote_index_column"
        }
       ],
       "row_count": 8,
       "rows": [
        {
         "Operating_Margin": 9648,
         "Operating_Profit": 9648,
         "Price_per_Unit": 9648,
         "Retailer_ID": 9648,
         "Total_Sales": 9648,
         "Units_Sold": 9648,
         "_deepnote_index_column": "count"
        },
        {
         "Operating_Margin": 42.29912935323383,
         "Operating_Profit": 4894.793501243781,
         "Price_per_Unit": 45.21662520729685,
         "Retailer_ID": 1173849.7235696518,
         "Total_Sales": 12455.083955223881,
         "Units_Sold": 256.9300373134328,
         "_deepnote_index_column": "mean"
        },
        {
         "Operating_Margin": 9.719741850510681,
         "Operating_Profit": 4866.464372066413,
         "Price_per_Unit": 14.705397125008332,
         "Retailer_ID": 26360.37730933121,
         "Total_Sales": 12716.392111457199,
         "Units_Sold": 214.25203007420507,
         "_deepnote_index_column": "std"
        },
        {
         "Operating_Margin": 10,
         "Operating_Profit": 0,
         "Price_per_Unit": 7,
         "Retailer_ID": 1128299,
         "Total_Sales": 0,
         "Units_Sold": 0,
         "_deepnote_index_column": "min"
        },
        {
         "Operating_Margin": 35,
         "Operating_Profit": 1753.44,
         "Price_per_Unit": 35,
         "Retailer_ID": 1185732,
         "Total_Sales": 4065.25,
         "Units_Sold": 106,
         "_deepnote_index_column": "25%"
        },
        {
         "Operating_Margin": 41,
         "Operating_Profit": 3262.98,
         "Price_per_Unit": 45,
         "Retailer_ID": 1185732,
         "Total_Sales": 7803.5,
         "Units_Sold": 176,
         "_deepnote_index_column": "50%"
        },
        {
         "Operating_Margin": 49,
         "Operating_Profit": 6192.36,
         "Price_per_Unit": 55,
         "Retailer_ID": 1185732,
         "Total_Sales": 15864.5,
         "Units_Sold": 350,
         "_deepnote_index_column": "75%"
        },
        {
         "Operating_Margin": 80,
         "Operating_Profit": 39000,
         "Price_per_Unit": 110,
         "Retailer_ID": 1197831,
         "Total_Sales": 82500,
         "Units_Sold": 1275,
         "_deepnote_index_column": "max"
        }
       ]
      },
      "text/html": [
       "<div>\n",
       "<style scoped>\n",
       "    .dataframe tbody tr th:only-of-type {\n",
       "        vertical-align: middle;\n",
       "    }\n",
       "\n",
       "    .dataframe tbody tr th {\n",
       "        vertical-align: top;\n",
       "    }\n",
       "\n",
       "    .dataframe thead th {\n",
       "        text-align: right;\n",
       "    }\n",
       "</style>\n",
       "<table border=\"1\" class=\"dataframe\">\n",
       "  <thead>\n",
       "    <tr style=\"text-align: right;\">\n",
       "      <th></th>\n",
       "      <th>Retailer_ID</th>\n",
       "      <th>Price_per_Unit</th>\n",
       "      <th>Units_Sold</th>\n",
       "      <th>Total_Sales</th>\n",
       "      <th>Operating_Profit</th>\n",
       "      <th>Operating_Margin</th>\n",
       "    </tr>\n",
       "  </thead>\n",
       "  <tbody>\n",
       "    <tr>\n",
       "      <th>count</th>\n",
       "      <td>9.648000e+03</td>\n",
       "      <td>9648.000000</td>\n",
       "      <td>9648.000000</td>\n",
       "      <td>9648.000000</td>\n",
       "      <td>9648.000000</td>\n",
       "      <td>9648.000000</td>\n",
       "    </tr>\n",
       "    <tr>\n",
       "      <th>mean</th>\n",
       "      <td>1.173850e+06</td>\n",
       "      <td>45.216625</td>\n",
       "      <td>256.930037</td>\n",
       "      <td>12455.083955</td>\n",
       "      <td>4894.793501</td>\n",
       "      <td>42.299129</td>\n",
       "    </tr>\n",
       "    <tr>\n",
       "      <th>std</th>\n",
       "      <td>2.636038e+04</td>\n",
       "      <td>14.705397</td>\n",
       "      <td>214.252030</td>\n",
       "      <td>12716.392111</td>\n",
       "      <td>4866.464372</td>\n",
       "      <td>9.719742</td>\n",
       "    </tr>\n",
       "    <tr>\n",
       "      <th>min</th>\n",
       "      <td>1.128299e+06</td>\n",
       "      <td>7.000000</td>\n",
       "      <td>0.000000</td>\n",
       "      <td>0.000000</td>\n",
       "      <td>0.000000</td>\n",
       "      <td>10.000000</td>\n",
       "    </tr>\n",
       "    <tr>\n",
       "      <th>25%</th>\n",
       "      <td>1.185732e+06</td>\n",
       "      <td>35.000000</td>\n",
       "      <td>106.000000</td>\n",
       "      <td>4065.250000</td>\n",
       "      <td>1753.440000</td>\n",
       "      <td>35.000000</td>\n",
       "    </tr>\n",
       "    <tr>\n",
       "      <th>50%</th>\n",
       "      <td>1.185732e+06</td>\n",
       "      <td>45.000000</td>\n",
       "      <td>176.000000</td>\n",
       "      <td>7803.500000</td>\n",
       "      <td>3262.980000</td>\n",
       "      <td>41.000000</td>\n",
       "    </tr>\n",
       "    <tr>\n",
       "      <th>75%</th>\n",
       "      <td>1.185732e+06</td>\n",
       "      <td>55.000000</td>\n",
       "      <td>350.000000</td>\n",
       "      <td>15864.500000</td>\n",
       "      <td>6192.360000</td>\n",
       "      <td>49.000000</td>\n",
       "    </tr>\n",
       "    <tr>\n",
       "      <th>max</th>\n",
       "      <td>1.197831e+06</td>\n",
       "      <td>110.000000</td>\n",
       "      <td>1275.000000</td>\n",
       "      <td>82500.000000</td>\n",
       "      <td>39000.000000</td>\n",
       "      <td>80.000000</td>\n",
       "    </tr>\n",
       "  </tbody>\n",
       "</table>\n",
       "</div>"
      ],
      "text/plain": [
       "        Retailer_ID  Price_per_Unit   Units_Sold   Total_Sales  \\\n",
       "count  9.648000e+03     9648.000000  9648.000000   9648.000000   \n",
       "mean   1.173850e+06       45.216625   256.930037  12455.083955   \n",
       "std    2.636038e+04       14.705397   214.252030  12716.392111   \n",
       "min    1.128299e+06        7.000000     0.000000      0.000000   \n",
       "25%    1.185732e+06       35.000000   106.000000   4065.250000   \n",
       "50%    1.185732e+06       45.000000   176.000000   7803.500000   \n",
       "75%    1.185732e+06       55.000000   350.000000  15864.500000   \n",
       "max    1.197831e+06      110.000000  1275.000000  82500.000000   \n",
       "\n",
       "       Operating_Profit  Operating_Margin  \n",
       "count       9648.000000       9648.000000  \n",
       "mean        4894.793501         42.299129  \n",
       "std         4866.464372          9.719742  \n",
       "min            0.000000         10.000000  \n",
       "25%         1753.440000         35.000000  \n",
       "50%         3262.980000         41.000000  \n",
       "75%         6192.360000         49.000000  \n",
       "max        39000.000000         80.000000  "
      ]
     },
     "execution_count": 12,
     "metadata": {},
     "output_type": "execute_result"
    }
   ],
   "source": [
    "df_clean.describe()"
   ]
  },
  {
   "cell_type": "code",
   "execution_count": 13,
   "metadata": {
    "cell_id": "38aa99be26ad4559b25b47aaa820b2df",
    "deepnote_cell_type": "code",
    "deepnote_to_be_reexecuted": false,
    "execution_millis": 32,
    "execution_start": 1703563165293,
    "source_hash": "64d1e116"
   },
   "outputs": [
    {
     "name": "stdout",
     "output_type": "stream",
     "text": [
      "range of  Price_per_Unit  :  103.0\n",
      "range of  Units_Sold  :  1275.0\n",
      "range of  Total_Sales  :  82500.0\n",
      "range of  Operating_Profit  :  39000.0\n",
      "range of  Operating_Margin  :  70.0\n"
     ]
    }
   ],
   "source": [
    "range = ['Price_per_Unit','Units_Sold', 'Total_Sales', 'Operating_Profit', 'Operating_Margin']\n",
    "for r in range:\n",
    "    print(\"range of \", r , \" : \", df_clean[r].max() - df_clean[r].min())\n",
    "#The range of numerical columns are as follows"
   ]
  },
  {
   "cell_type": "markdown",
   "metadata": {
    "cell_id": "9b280d16777145bfab128437a4de9f42",
    "deepnote_cell_type": "text-cell-h3",
    "formattedRanges": []
   },
   "source": [
    "### Sales Analysis"
   ]
  },
  {
   "cell_type": "code",
   "execution_count": 14,
   "metadata": {
    "cell_id": "3b9d919cb1de4c7e8c574438090a8f43",
    "deepnote_cell_type": "code",
    "deepnote_to_be_reexecuted": false,
    "execution_millis": 26,
    "execution_start": 1703563165300,
    "source_hash": "1f821005"
   },
   "outputs": [
    {
     "data": {
      "text/plain": [
       "\"men's street footwear\""
      ]
     },
     "execution_count": 14,
     "metadata": {},
     "output_type": "execute_result"
    }
   ],
   "source": [
    "df_clean['Product'].value_counts().idxmax()\n",
    "# The most listed product is 'men's athletic footwear'"
   ]
  },
  {
   "cell_type": "code",
   "execution_count": 15,
   "metadata": {
    "cell_id": "6cc25a277567496c81b1c586e820c141",
    "deepnote_cell_type": "code",
    "deepnote_to_be_reexecuted": false,
    "execution_millis": 285,
    "execution_start": 1703563165308,
    "source_hash": "b771293b"
   },
   "outputs": [
    {
     "data": {
      "image/png": "[encoded data removed]",
      "text/plain": [
       "<Figure size 800x500 with 1 Axes>"
      ]
     },
     "metadata": {
      "image/png": {
       "height": 640,
       "width": 691
      }
     },
     "output_type": "display_data"
    }
   ],
   "source": [
    "product_sales = df_clean.groupby('Product')['Total_Sales'].sum()\n",
    "\n",
    "plt.figure(figsize=(8, 5))\n",
    "product_sales.plot(kind='bar', color='skyblue')\n",
    "plt.xlabel('Product')\n",
    "plt.ylabel('Total Sales')\n",
    "plt.title('Total Sales per Product')\n",
    "plt.show()\n",
    "# Men's Street Footwear' has the highest total sales"
   ]
  },
  {
   "cell_type": "code",
   "execution_count": 16,
   "metadata": {
    "cell_id": "86924cb65e8a4638a9cb6a8405035b45",
    "deepnote_cell_type": "code",
    "deepnote_to_be_reexecuted": false,
    "execution_millis": 376,
    "execution_start": 1703563165589,
    "source_hash": "a80b0e10"
   },
   "outputs": [
    {
     "data": {
      "image/png": "[encoded data removed]",
      "text/plain": [
       "<Figure size 1400x700 with 1 Axes>"
      ]
     },
     "metadata": {
      "image/png": {
       "height": 588,
       "width": 1156
      }
     },
     "output_type": "display_data"
    }
   ],
   "source": [
    "import matplotlib.dates as mdates\n",
    "\n",
    "df_clean['Year'] = df_clean['Invoice_Date'].dt.year\n",
    "df_clean['Month'] = df_clean['Invoice_Date'].dt.month\n",
    "monthly_data = df_clean.groupby(['Year', 'Month']).agg({\n",
    "    'Total_Sales': 'sum',\n",
    "    'Operating_Profit': 'sum'\n",
    "}).reset_index()\n",
    "monthly_data['Date'] = pd.to_datetime(monthly_data[['Year', 'Month']].assign(day=1))\n",
    "\n",
    "plt.figure(figsize=(14, 7))\n",
    "\n",
    "plt.plot(monthly_data['Date'], monthly_data['Total_Sales'], label='Total Sales')\n",
    "plt.plot(monthly_data['Date'], monthly_data['Operating_Profit'], label='Operating Profit')\n",
    "\n",
    "plt.gca().xaxis.set_major_formatter(mdates.DateFormatter('%Y-%m'))\n",
    "plt.gca().xaxis.set_major_locator(mdates.MonthLocator())\n",
    "plt.gcf().autofmt_xdate() # for the x date angle\n",
    "\n",
    "plt.title(\"Total Sales and Operating Profit over Time\")\n",
    "plt.xlabel('Time')\n",
    "plt.ylabel('Amount')\n",
    "plt.legend()\n",
    "\n",
    "plt.show()\n",
    "#The below graph shows trend of total sales and operating profit over time\n",
    "#There is a gradual increase in total sales and operating profit over time.\n",
    "#During dec 2020 to jan 2021, there is a sudden increase in total sales and operating profit but the point to note is that the extent of increase of profit is lesser than that of sales."
   ]
  },
  {
   "cell_type": "code",
   "execution_count": 17,
   "metadata": {
    "cell_id": "931fe7607d2c42eaa0df8bb8be38e51e",
    "deepnote_cell_type": "code",
    "deepnote_to_be_reexecuted": false,
    "execution_millis": 19,
    "execution_start": 1703563165985,
    "source_hash": "b7e35a00"
   },
   "outputs": [
    {
     "name": "stdout",
     "output_type": "stream",
     "text": [
      "Total sales:  Sales_Method\n",
      "in-store    35664375.0\n",
      "online      44965657.0\n",
      "outlet      39536618.0\n",
      "Name: Total_Sales, dtype: float64\n",
      "Total profit:  Sales_Method\n",
      "in-store    12759128.75\n",
      "online      19552537.72\n",
      "outlet      14913301.23\n",
      "Name: Operating_Profit, dtype: float64\n"
     ]
    }
   ],
   "source": [
    "print(\"Total sales: \", df_clean.groupby(['Sales_Method']).Total_Sales.sum())\n",
    "print(\"Total profit: \", df_clean.groupby(['Sales_Method']).Operating_Profit.sum())\n",
    "# Out of different sales methods, 'online' has the highest total sales and profit whereas, 'in-store' has the lowest total sales and profit."
   ]
  },
  {
   "cell_type": "code",
   "execution_count": 18,
   "metadata": {
    "cell_id": "54c51402718e4761acd5b0aa27e1c145",
    "deepnote_cell_type": "code",
    "deepnote_to_be_reexecuted": false,
    "execution_millis": 29,
    "execution_start": 1703563165986,
    "source_hash": "f191034d"
   },
   "outputs": [
    {
     "data": {
      "text/plain": [
       "Product\n",
       "men's apparel                190.960772\n",
       "men's athletic footwear      270.513043\n",
       "men's street footwear        368.521739\n",
       "women's apparel              269.792910\n",
       "women's athletic footwear    197.531756\n",
       "women's street footwear      243.948383\n",
       "Name: Units_Sold, dtype: float64"
      ]
     },
     "execution_count": 18,
     "metadata": {},
     "output_type": "execute_result"
    }
   ],
   "source": [
    "df_clean.groupby(['Product'])['Units_Sold'].mean()\n",
    "#The below lists the average number of units sold per product per day. That is, the average transaction per day.\n",
    "# men's street footwear has the highest transaction per day whereas, men's apparel has the least."
   ]
  },
  {
   "cell_type": "code",
   "execution_count": 19,
   "metadata": {
    "cell_id": "37c725d06c274f4eaa1730ba920c336f",
    "deepnote_cell_type": "code",
    "deepnote_to_be_reexecuted": false,
    "execution_millis": 16,
    "execution_start": 1703563165987,
    "source_hash": "b4cbdf7a"
   },
   "outputs": [
    {
     "data": {
      "text/plain": [
       "Sales_Method\n",
       "in-store    203.410458\n",
       "online      176.269773\n",
       "outlet      232.193750\n",
       "Name: Units_Sold, dtype: float64"
      ]
     },
     "execution_count": 19,
     "metadata": {},
     "output_type": "execute_result"
    }
   ],
   "source": [
    "df_clean.groupby(['Sales_Method'])['Units_Sold'].std()\n",
    "#The belows lists the amount of units sold variation for each sales method\n",
    "#It is clear that 'outlet' has the highest variation which means that the number of units sold every day differs a lot, while 'online' has the lowest variation"
   ]
  },
  {
   "cell_type": "code",
   "execution_count": 20,
   "metadata": {
    "cell_id": "1a18189caf3847bc92c3e1a4c9658a66",
    "deepnote_cell_type": "code",
    "deepnote_to_be_reexecuted": false,
    "execution_millis": 28,
    "execution_start": 1703563165989,
    "source_hash": "c4de092f"
   },
   "outputs": [
    {
     "data": {
      "text/plain": [
       "Product\n",
       "men's apparel                10783.845485\n",
       "men's athletic footwear      12707.987489\n",
       "men's street footwear        14978.931461\n",
       "women's apparel              14199.454793\n",
       "women's athletic footwear     9630.473858\n",
       "women's street footwear      11196.643353\n",
       "Name: Total_Sales, dtype: float64"
      ]
     },
     "execution_count": 20,
     "metadata": {},
     "output_type": "execute_result"
    }
   ],
   "source": [
    "df_clean.groupby(['Product'])['Total_Sales'].std()\n",
    "#These values represent the spread or variability of 'Total_Sales' within each product category.\n",
    "# A higher standard deviation indicates greater variability in sales within that product category."
   ]
  },
  {
   "cell_type": "code",
   "execution_count": 21,
   "metadata": {
    "cell_id": "6b1f00ab1d9f41a7b94481ef43076744",
    "deepnote_cell_type": "code",
    "deepnote_to_be_reexecuted": false,
    "execution_millis": 285,
    "execution_start": 1703563166005,
    "source_hash": "487f10bd"
   },
   "outputs": [
    {
     "data": {
      "image/png": "[encoded data removed]",
      "text/plain": [
       "<Figure size 1000x800 with 1 Axes>"
      ]
     },
     "metadata": {
      "image/png": {
       "height": 832,
       "width": 846
      }
     },
     "output_type": "display_data"
    }
   ],
   "source": [
    "product_sales_profit = df_clean.groupby('Product')[['Total_Sales', 'Operating_Profit']].sum()\n",
    "\n",
    "plt.figure(figsize=[10,8])\n",
    "plt.bar(product_sales_profit.index, product_sales_profit['Total_Sales'], color='blue')\n",
    "plt.bar(product_sales_profit.index, product_sales_profit['Operating_Profit'], bottom=product_sales_profit['Total_Sales'], color='red')\n",
    "\n",
    "plt.title(\"Total Sales and Operating Profit by Product\", fontsize=18)\n",
    "plt.xlabel(\"Product\")\n",
    "plt.ylabel(\"Amount\")\n",
    "plt.legend([\"Operating Profit\", \"Total Sales\"])\n",
    "plt.xticks(rotation=45)\n",
    "plt.show()\n",
    "#This visualization shows operating profit and total salesby product. \n",
    "#It is clear that men's street footwear has the highest total sales and operating profit."
   ]
  },
  {
   "cell_type": "markdown",
   "metadata": {
    "cell_id": "d3f8780b7bc2461599cd69f420265b7e",
    "deepnote_cell_type": "text-cell-h3",
    "formattedRanges": []
   },
   "source": [
    "### Profitability Analysis"
   ]
  },
  {
   "cell_type": "code",
   "execution_count": 22,
   "metadata": {
    "cell_id": "d5f9a6d8d7f74ac0ab974e8ac9897f89",
    "deepnote_cell_type": "code",
    "deepnote_to_be_reexecuted": false,
    "execution_millis": 18,
    "execution_start": 1703563166284,
    "source_hash": "b05ab260"
   },
   "outputs": [
    {
     "data": {
      "text/plain": [
       "Product\n",
       "men's apparel                2679.415\n",
       "men's athletic footwear      3293.760\n",
       "men's street footwear        5201.500\n",
       "women's apparel              4004.200\n",
       "women's athletic footwear    2357.100\n",
       "women's street footwear      2703.000\n",
       "Name: Operating_Profit, dtype: float64"
      ]
     },
     "execution_count": 22,
     "metadata": {},
     "output_type": "execute_result"
    }
   ],
   "source": [
    "df_clean.groupby(['Product'])['Operating_Profit'].median()\n",
    "#Considering median, there is more profit in men's street footwear and least in women's athletic footwear."
   ]
  },
  {
   "cell_type": "code",
   "execution_count": 23,
   "metadata": {
    "cell_id": "b5cd611ed2674b5783ee3919952705d6",
    "deepnote_cell_type": "code",
    "deepnote_to_be_reexecuted": false,
    "execution_millis": 17,
    "execution_start": 1703563166290,
    "source_hash": "bc9894cc"
   },
   "outputs": [
    {
     "data": {
      "text/plain": [
       "Product\n",
       "men's apparel                40.0\n",
       "men's athletic footwear      40.0\n",
       "men's street footwear        45.0\n",
       "women's apparel              44.0\n",
       "women's athletic footwear    41.0\n",
       "women's street footwear      40.0\n",
       "Name: Operating_Margin, dtype: float64"
      ]
     },
     "execution_count": 23,
     "metadata": {},
     "output_type": "execute_result"
    }
   ],
   "source": [
    "df_clean.groupby(['Product'])['Operating_Margin'].median()\n",
    "#men's street footwear has the highest operating margin . And the general operating margin is 40%."
   ]
  },
  {
   "cell_type": "code",
   "execution_count": 24,
   "metadata": {
    "cell_id": "1c63aea2b11d4a8cbd15dbac1c58b231",
    "deepnote_cell_type": "code",
    "deepnote_to_be_reexecuted": false,
    "execution_millis": 430,
    "execution_start": 1703563166301,
    "source_hash": "f52a1958"
   },
   "outputs": [
    {
     "data": {
      "image/png": "[encoded data removed]",
      "text/plain": [
       "<Figure size 1400x700 with 1 Axes>"
      ]
     },
     "metadata": {
      "image/png": {
       "height": 588,
       "width": 1156
      }
     },
     "output_type": "display_data"
    }
   ],
   "source": [
    "import matplotlib.dates as mdates\n",
    "\n",
    "df_clean['Year'] = df_clean['Invoice_Date'].dt.year\n",
    "df_clean['Month'] = df_clean['Invoice_Date'].dt.month\n",
    "monthly_data = df_clean.groupby(['Year', 'Month']).agg({\n",
    "    'Operating_Margin': 'median'\n",
    "}).reset_index()\n",
    "monthly_data['Date'] = pd.to_datetime(monthly_data[['Year', 'Month']].assign(day=1))\n",
    "\n",
    "plt.figure(figsize=(14, 7))\n",
    "plt.plot(monthly_data['Date'], monthly_data['Operating_Margin'], label='Operating Margin')\n",
    "\n",
    "plt.gca().xaxis.set_major_formatter(mdates.DateFormatter('%Y-%m'))\n",
    "plt.gca().xaxis.set_major_locator(mdates.MonthLocator())\n",
    "plt.gcf().autofmt_xdate() # for the x date angle\n",
    "\n",
    "plt.title(\"Median Operating Margin over Time\")\n",
    "plt.xlabel('Time')\n",
    "plt.ylabel('Amount')\n",
    "plt.legend()\n",
    "\n",
    "plt.show()\n",
    "#The below graph shows trend of median operating margin over time.\n",
    "#It is clear that the median operating margin is constantly changing over time and was the least in june 2020.\n",
    "#The highest median operating margin was in sept 2020"
   ]
  },
  {
   "cell_type": "code",
   "execution_count": 25,
   "metadata": {
    "cell_id": "7a4cd4b543a647978fc8ee20251e03cf",
    "deepnote_cell_type": "code",
    "deepnote_to_be_reexecuted": false,
    "execution_millis": 27,
    "execution_start": 1703563166730,
    "source_hash": "2167aa56"
   },
   "outputs": [
    {
     "data": {
      "text/plain": [
       "223569.0"
      ]
     },
     "execution_count": 25,
     "metadata": {},
     "output_type": "execute_result"
    }
   ],
   "source": [
    "# Filter the dataframe for June 2020 and sales method as online\n",
    "filtered_data = df_clean[(df_clean['Year'] == 2020) & (df_clean['Month'] == 6) & (df_clean['Sales_Method'] == 'online')]\n",
    "\n",
    "# Calculate total sales\n",
    "total_sales = filtered_data['Total_Sales'].sum()\n",
    "total_sales\n",
    "#The total sales that happened via online in June 2020 is 223,569 units."
   ]
  },
  {
   "cell_type": "code",
   "execution_count": 26,
   "metadata": {
    "cell_id": "8116cb904c4e4eb3a5672fdc8e2b615e",
    "deepnote_cell_type": "code",
    "deepnote_to_be_reexecuted": false,
    "execution_millis": 23,
    "execution_start": 1703563166763,
    "source_hash": "92158bda"
   },
   "outputs": [
    {
     "data": {
      "text/plain": [
       "456214.0"
      ]
     },
     "execution_count": 26,
     "metadata": {},
     "output_type": "execute_result"
    }
   ],
   "source": [
    "filtered_data = df_clean[(df_clean['Year'] == 2020) & (df_clean['Month'] == 9) & (df_clean['Sales_Method'] == 'online')]\n",
    "\n",
    "# Calculate total sales\n",
    "total_sales = filtered_data['Total_Sales'].sum()\n",
    "total_sales"
   ]
  },
  {
   "cell_type": "code",
   "execution_count": 27,
   "metadata": {
    "cell_id": "c91972cd40e54433b1b63ed27ace2290",
    "deepnote_cell_type": "code",
    "deepnote_to_be_reexecuted": false,
    "execution_millis": 21,
    "execution_start": 1703563166775,
    "source_hash": "fc5cb923"
   },
   "outputs": [
    {
     "data": {
      "text/plain": [
       "42.078631683997514"
      ]
     },
     "execution_count": 27,
     "metadata": {},
     "output_type": "execute_result"
    }
   ],
   "source": [
    "# Calculate total sales for June 2020\n",
    "total_sales_June2020 = df_clean[(df_clean['Year'] == 2020) & (df_clean['Month'] == 6)]['Total_Sales'].sum()\n",
    "\n",
    "# Calculate percentage of online sales for June 2020\n",
    "percentage_online_sales_June2020 = (total_sales / total_sales_June2020) * 100\n",
    "percentage_online_sales_June2020\n",
    "#The percentage of sales via online in June 2020 is approximately 20.62%."
   ]
  },
  {
   "cell_type": "code",
   "execution_count": 28,
   "metadata": {
    "cell_id": "cff7efe834c34d46a91591f415ac3824",
    "deepnote_cell_type": "code",
    "deepnote_to_be_reexecuted": false,
    "execution_millis": 22,
    "execution_start": 1703563166778,
    "source_hash": "ed7f9fbb"
   },
   "outputs": [
    {
     "data": {
      "text/plain": [
       "19.268348928025084"
      ]
     },
     "execution_count": 28,
     "metadata": {},
     "output_type": "execute_result"
    }
   ],
   "source": [
    "total_sales_June2020 = df_clean[(df_clean['Year'] == 2020) & (df_clean['Month'] == 9)]['Total_Sales'].sum()\n",
    "\n",
    "# Calculate percentage of online sales for Sept 2020\n",
    "percentage_online_sales_June2020 = (total_sales / total_sales_June2020) * 100\n",
    "percentage_online_sales_June2020"
   ]
  },
  {
   "cell_type": "code",
   "execution_count": 29,
   "metadata": {
    "cell_id": "e9f5888fa4e6400080321f9a9da8dbb9",
    "deepnote_cell_type": "code",
    "deepnote_to_be_reexecuted": false,
    "execution_millis": 20,
    "execution_start": 1703563166787,
    "source_hash": "a7e323e3"
   },
   "outputs": [
    {
     "name": "stdout",
     "output_type": "stream",
     "text": [
      "Kurtosis :  7.181164174449948\n",
      "Skewness :  2.334590765903441\n"
     ]
    }
   ],
   "source": [
    "print(\"Kurtosis : \", df_clean['Operating_Profit'].kurt())\n",
    "print(\"Skewness : \", df_clean['Operating_Profit'].skew())\n",
    "#The positive kurtosis suggests that the distribution has heavier tails and a sharper peak compared to a normal distribution.\n",
    "#The positive skewness suggests that the distribution is right-skewed, meaning it is stretched more to the right."
   ]
  },
  {
   "cell_type": "code",
   "execution_count": 30,
   "metadata": {
    "cell_id": "1cf38f6c1b80464b9083afa5dd7ae8d4",
    "deepnote_cell_type": "code",
    "deepnote_to_be_reexecuted": false,
    "execution_millis": 18,
    "execution_start": 1703563166799,
    "source_hash": "8d0a158c"
   },
   "outputs": [
    {
     "data": {
      "text/plain": [
       "Sales_Method\n",
       "in-store    0.363159\n",
       "online      0.251876\n",
       "outlet      0.148255\n",
       "Name: Operating_Margin, dtype: float64"
      ]
     },
     "execution_count": 30,
     "metadata": {},
     "output_type": "execute_result"
    }
   ],
   "source": [
    "df_clean.groupby(['Sales_Method'])['Operating_Margin'].skew()\n",
    "#The operating margin for each sales method is right skewed or positively skewed. And in-store has the highest skewness whereas, outlet has the lowest skewness.\n",
    "#This means that the right tail is longer and fatter than the left tail."
   ]
  },
  {
   "cell_type": "markdown",
   "metadata": {
    "cell_id": "9364965c77174e72b39053327c0e96e4",
    "deepnote_cell_type": "text-cell-h3",
    "formattedRanges": []
   },
   "source": [
    "### Regional Analysis"
   ]
  },
  {
   "cell_type": "code",
   "execution_count": 31,
   "metadata": {
    "cell_id": "8118625e3b9a4e4fad7222a3286c3414",
    "deepnote_cell_type": "code",
    "deepnote_to_be_reexecuted": false,
    "execution_millis": 14,
    "execution_start": 1703563166802,
    "source_hash": "e34ca6c1"
   },
   "outputs": [
    {
     "name": "stdout",
     "output_type": "stream",
     "text": [
      "Region wise:  Region\n",
      "midwest      16674434.0\n",
      "northeast    25078267.0\n",
      "south        20603356.0\n",
      "southeast    21374436.0\n",
      "west         36436157.0\n",
      "Name: Total_Sales, dtype: float64\n",
      "State wise:  new york\n",
      "City wise:  new york\n"
     ]
    }
   ],
   "source": [
    "print(\"Region wise: \",df_clean.groupby(['Region'])['Total_Sales'].sum())\n",
    "print(\"State wise: \", df_clean.groupby(['State'])['Total_Sales'].sum().idxmax())\n",
    "print(\"City wise: \", df_clean.groupby(['City'])['Total_Sales'].sum().idxmax())\n",
    "#In general the western region has highest sales. The State with highest sales is New York."
   ]
  },
  {
   "cell_type": "code",
   "execution_count": 32,
   "metadata": {
    "cell_id": "b987ce705d094c6f91c2778177c77392",
    "deepnote_cell_type": "code",
    "deepnote_to_be_reexecuted": false,
    "execution_millis": 53,
    "execution_start": 1703563166813,
    "source_hash": "f1127427"
   },
   "outputs": [
    {
     "name": "stdout",
     "output_type": "stream",
     "text": [
      "('west', \"men's athletic footwear\")\n",
      "('california', \"men's apparel\")\n",
      "('portland', \"men's apparel\")\n"
     ]
    }
   ],
   "source": [
    "print(df_clean.groupby(['Region'])['Product'].value_counts().idxmax())\n",
    "print(df_clean.groupby(['State'])['Product'].value_counts().idxmax())\n",
    "print(df_clean.groupby(['City'])['Product'].value_counts().idxmax())\n",
    "#The following gives the overall most popular Product in each of region, state and city division.\n",
    "#men's apparel is the most popular , city and state wise but on a bigger picture, men's athletic footwear is the most popular product in western region.\n",
    "#Note: Here popularity is taken as the number of times a particular product is listed and not number of products sold."
   ]
  },
  {
   "cell_type": "code",
   "execution_count": 33,
   "metadata": {
    "cell_id": "8d26cc88a6324c86b86e519f49dbefe0",
    "deepnote_cell_type": "code",
    "deepnote_to_be_reexecuted": false,
    "execution_millis": 15,
    "execution_start": 1703563166862,
    "source_hash": "f5dbdcdc"
   },
   "outputs": [
    {
     "name": "stdout",
     "output_type": "stream",
     "text": [
      "Region wise:  ('west', \"men's street footwear\")\n",
      "State wise:  ('new york', \"men's street footwear\")\n",
      "City wise:  ('charleston', \"men's street footwear\")\n"
     ]
    }
   ],
   "source": [
    "print(\"Region wise: \", df_clean.groupby(['Region', 'Product'])['Units_Sold'].sum().idxmax())\n",
    "print(\"State wise: \", df_clean.groupby(['State', 'Product'])['Units_Sold'].sum().idxmax())\n",
    "print(\"City wise: \", df_clean.groupby(['City', 'Product'])['Units_Sold'].sum().idxmax())\n",
    "#specific regional, state, city preferences for certain products are listed below. In each of them, men's street footwear is more preferred."
   ]
  },
  {
   "cell_type": "code",
   "execution_count": 34,
   "metadata": {
    "cell_id": "6c677f0ca3bf43baafd257e24fed696c",
    "deepnote_cell_type": "code",
    "deepnote_to_be_reexecuted": false,
    "execution_millis": 15,
    "execution_start": 1703563166869,
    "source_hash": "7b13d26d"
   },
   "outputs": [
    {
     "data": {
      "text/plain": [
       "Region     Sales_Method\n",
       "midwest    in-store        2316565.00\n",
       "           online          3133263.98\n",
       "           outlet          1410116.25\n",
       "northeast  in-store        4254420.00\n",
       "           online          2246831.65\n",
       "           outlet          3231522.25\n",
       "south      in-store         134800.00\n",
       "           online          4149888.22\n",
       "           outlet          4936917.10\n",
       "southeast  in-store        2558256.25\n",
       "           online          5080401.63\n",
       "           outlet           754401.32\n",
       "west       in-store        3495087.50\n",
       "           online          4942152.24\n",
       "           outlet          4580344.31\n",
       "Name: Operating_Profit, dtype: float64"
      ]
     },
     "execution_count": 34,
     "metadata": {},
     "output_type": "execute_result"
    }
   ],
   "source": [
    "df_clean.groupby(['Region', 'Sales_Method'])['Operating_Profit'].sum()\n",
    "#This tells us the best sales method for each region for max profit."
   ]
  },
  {
   "cell_type": "markdown",
   "metadata": {
    "cell_id": "426ced8c1814487889a52eb73d9f00b6",
    "deepnote_cell_type": "text-cell-h3",
    "formattedRanges": []
   },
   "source": [
    "### Retailer Analysis"
   ]
  },
  {
   "cell_type": "code",
   "execution_count": 35,
   "metadata": {
    "cell_id": "e69baf6e394d458d8d3ebdd396c1a91c",
    "deepnote_cell_type": "code",
    "deepnote_to_be_reexecuted": false,
    "execution_millis": 267,
    "execution_start": 1703563166881,
    "source_hash": "a88b6006"
   },
   "outputs": [
    {
     "data": {
      "image/png": "[encoded data removed]",
      "text/plain": [
       "<Figure size 800x800 with 1 Axes>"
      ]
     },
     "metadata": {
      "image/png": {
       "height": 658,
       "width": 661
      }
     },
     "output_type": "display_data"
    }
   ],
   "source": [
    "sales_by_location = df_clean.groupby('Retailer')['Total_Sales'].sum()\n",
    "\n",
    "# Plotting a pie chart for total sales by retailer\n",
    "plt.figure(figsize=(8, 8))\n",
    "sales_by_location.plot.pie(autopct='%1.1f%%', startangle=90, colors=['skyblue', 'lightgreen', 'lightcoral'])\n",
    "plt.title('Total Sales by Retailer')\n",
    "plt.ylabel('')\n",
    "plt.show()\n",
    "#The total sales is highest by the retailer - west gear followed by foot locker. \n",
    "#Even though online mode has the highest sales, amazon has the least total sales."
   ]
  },
  {
   "cell_type": "code",
   "execution_count": 36,
   "metadata": {
    "cell_id": "73171230b66546e995c07151db40c1cc",
    "deepnote_cell_type": "code",
    "deepnote_to_be_reexecuted": false,
    "execution_millis": 139,
    "execution_start": 1703563167149,
    "source_hash": "84473510"
   },
   "outputs": [
    {
     "data": {
      "image/png": "[encoded data removed]",
      "text/plain": [
       "<Figure size 800x800 with 1 Axes>"
      ]
     },
     "metadata": {
      "image/png": {
       "height": 658,
       "width": 668
      }
     },
     "output_type": "display_data"
    }
   ],
   "source": [
    "sales_by_location = df_clean.groupby('Retailer')['Operating_Profit'].sum()\n",
    "\n",
    "# Plotting a pie chart for operating profit by retailer\n",
    "plt.figure(figsize=(8, 8))\n",
    "sales_by_location.plot.pie(autopct='%1.1f%%', startangle=90, colors=['skyblue', 'lightgreen', 'lightcoral'])\n",
    "plt.title('Total Operating Profit by Retailer')\n",
    "plt.ylabel('')\n",
    "plt.show()\n",
    "#The operating profit is highest by the retailer - west gear followed by foot locker. \n",
    "#Even though online mode has the highest operating profit, amazon has the least operating profit."
   ]
  },
  {
   "cell_type": "code",
   "execution_count": 37,
   "metadata": {
    "cell_id": "435b98ca924f438090ed1ab8b2322d5b",
    "deepnote_cell_type": "code",
    "deepnote_to_be_reexecuted": false,
    "execution_millis": 22,
    "execution_start": 1703563167350,
    "source_hash": "17057790"
   },
   "outputs": [
    {
     "data": {
      "text/plain": [
       "Retailer       Sales_Method\n",
       "amazon         in-store         7083.972458\n",
       "               online           3773.055296\n",
       "               outlet           3818.121821\n",
       "foot locker    in-store         6256.570156\n",
       "               online           3717.388738\n",
       "               outlet           4189.243405\n",
       "kohl's         in-store         7359.071181\n",
       "               online           3831.638194\n",
       "               outlet           6179.129774\n",
       "sports direct  in-store         7035.712457\n",
       "               online           4542.114372\n",
       "               outlet           5457.985430\n",
       "walmart        in-store        13325.337838\n",
       "               online           4781.102743\n",
       "               outlet           6753.334784\n",
       "west gear      in-store         7868.115165\n",
       "               online           3859.311032\n",
       "               outlet           4260.573448\n",
       "Name: Operating_Profit, dtype: float64"
      ]
     },
     "execution_count": 37,
     "metadata": {},
     "output_type": "execute_result"
    }
   ],
   "source": [
    "df_clean.groupby(['Retailer', 'Sales_Method'])['Operating_Profit'].mean()\n",
    "# The below lists the average operating profit by each retailer.\n",
    "#Even though west gear had the highest total operating profit, walmart outperformed them in terms of average operational profits.\n",
    "# Even though online mode had the overall highest operating profit, considering each retailer's sales method, in-store had the highest operating profit."
   ]
  },
  {
   "cell_type": "code",
   "execution_count": 38,
   "metadata": {
    "cell_id": "9a3667ee80d54826b026bdb72660a3f2",
    "deepnote_cell_type": "code",
    "deepnote_to_be_reexecuted": false,
    "execution_millis": 48,
    "execution_start": 1703563167367,
    "source_hash": "2ce8509d"
   },
   "outputs": [
    {
     "data": {
      "text/plain": [
       "Retailer       Product                  \n",
       "amazon         men's athletic footwear      159\n",
       "               men's street footwear        159\n",
       "               women's apparel              159\n",
       "               women's athletic footwear    158\n",
       "               men's apparel                157\n",
       "               women's street footwear      157\n",
       "foot locker    men's street footwear        449\n",
       "               men's athletic footwear      442\n",
       "               women's athletic footwear    442\n",
       "               women's street footwear      438\n",
       "               men's apparel                433\n",
       "               women's apparel              433\n",
       "kohl's         men's athletic footwear      172\n",
       "               men's street footwear        172\n",
       "               women's apparel              172\n",
       "               women's street footwear      172\n",
       "               men's apparel                171\n",
       "               women's athletic footwear    171\n",
       "sports direct  women's street footwear      342\n",
       "               women's apparel              341\n",
       "               men's apparel                339\n",
       "               women's athletic footwear    338\n",
       "               men's athletic footwear      337\n",
       "               men's street footwear        335\n",
       "walmart        men's apparel                113\n",
       "               women's apparel              107\n",
       "               men's athletic footwear      104\n",
       "               women's athletic footwear    102\n",
       "               men's street footwear        101\n",
       "               women's street footwear       99\n",
       "west gear      women's street footwear      400\n",
       "               men's athletic footwear      396\n",
       "               women's apparel              396\n",
       "               women's athletic footwear    395\n",
       "               men's street footwear        394\n",
       "               men's apparel                393\n",
       "Name: Product, dtype: int64"
      ]
     },
     "execution_count": 38,
     "metadata": {},
     "output_type": "execute_result"
    }
   ],
   "source": [
    "df_clean.groupby('Retailer')['Product'].value_counts()\n",
    "#The below lists the most popular products sold by each retailer. This gives us an idea about how each retailer is making more profits through their products."
   ]
  },
  {
   "cell_type": "markdown",
   "metadata": {
    "cell_id": "8e696a1cad6a47eca5eed3bbaee224c9",
    "deepnote_cell_type": "text-cell-h3",
    "formattedRanges": []
   },
   "source": [
    "### Pricing Analysis"
   ]
  },
  {
   "cell_type": "code",
   "execution_count": 39,
   "metadata": {
    "cell_id": "54c2e3d863104055a5f1b1e8fca14bd7",
    "deepnote_cell_type": "code",
    "deepnote_to_be_reexecuted": false,
    "execution_millis": 29,
    "execution_start": 1703563167395,
    "source_hash": "792518b"
   },
   "outputs": [
    {
     "data": {
      "application/vnd.deepnote.dataframe.v3+json": {
       "column_count": 5,
       "columns": [
        {
         "dtype": "float64",
         "name": "Price_per_Unit",
         "stats": {
          "histogram": [
           {
            "bin_end": -0.023737834642533567,
            "bin_start": -0.1374864829361484,
            "count": 1
           },
           {
            "bin_end": 0.09001081365108127,
            "bin_start": -0.023737834642533567,
            "count": 0
           },
           {
            "bin_end": 0.20375946194469607,
            "bin_start": 0.09001081365108127,
            "count": 0
           },
           {
            "bin_end": 0.31750811023831094,
            "bin_start": 0.20375946194469607,
            "count": 1
           },
           {
            "bin_end": 0.4312567585319258,
            "bin_start": 0.31750811023831094,
            "count": 0
           },
           {
            "bin_end": 0.5450054068255406,
            "bin_start": 0.4312567585319258,
            "count": 2
           },
           {
            "bin_end": 0.6587540551191554,
            "bin_start": 0.5450054068255406,
            "count": 0
           },
           {
            "bin_end": 0.7725027034127703,
            "bin_start": 0.6587540551191554,
            "count": 0
           },
           {
            "bin_end": 0.886251351706385,
            "bin_start": 0.7725027034127703,
            "count": 0
           },
           {
            "bin_end": 1,
            "bin_start": 0.886251351706385,
            "count": 1
           }
          ],
          "max": "1.0",
          "min": "-0.1374864829361484",
          "nan_count": 0,
          "unique_count": 5
         }
        },
        {
         "dtype": "float64",
         "name": "Units_Sold",
         "stats": {
          "histogram": [
           {
            "bin_end": -0.17493131379816187,
            "bin_start": -0.3054792375535132,
            "count": 1
           },
           {
            "bin_end": -0.044383390042810555,
            "bin_start": -0.17493131379816187,
            "count": 0
           },
           {
            "bin_end": 0.08616453371254079,
            "bin_start": -0.044383390042810555,
            "count": 0
           },
           {
            "bin_end": 0.21671245746789208,
            "bin_start": 0.08616453371254079,
            "count": 0
           },
           {
            "bin_end": 0.3472603812232434,
            "bin_start": 0.21671245746789208,
            "count": 1
           },
           {
            "bin_end": 0.4778083049785948,
            "bin_start": 0.3472603812232434,
            "count": 0
           },
           {
            "bin_end": 0.6083562287339461,
            "bin_start": 0.4778083049785948,
            "count": 0
           },
           {
            "bin_end": 0.7389041524892974,
            "bin_start": 0.6083562287339461,
            "count": 0
           },
           {
            "bin_end": 0.8694520762446487,
            "bin_start": 0.7389041524892974,
            "count": 0
           },
           {
            "bin_end": 1,
            "bin_start": 0.8694520762446487,
            "count": 3
           }
          ],
          "max": "1.0",
          "min": "-0.3054792375535132",
          "nan_count": 0,
          "unique_count": 5
         }
        },
        {
         "dtype": "float64",
         "name": "Total_Sales",
         "stats": {
          "histogram": [
           {
            "bin_end": -0.17206588741686876,
            "bin_start": -0.3022954304631875,
            "count": 1
           },
           {
            "bin_end": -0.041836344370550005,
            "bin_start": -0.17206588741686876,
            "count": 0
           },
           {
            "bin_end": 0.08839319867576878,
            "bin_start": -0.041836344370550005,
            "count": 0
           },
           {
            "bin_end": 0.2186227417220875,
            "bin_start": 0.08839319867576878,
            "count": 0
           },
           {
            "bin_end": 0.34885228476840624,
            "bin_start": 0.2186227417220875,
            "count": 0
           },
           {
            "bin_end": 0.4790818278147251,
            "bin_start": 0.34885228476840624,
            "count": 0
           },
           {
            "bin_end": 0.6093113708610438,
            "bin_start": 0.4790818278147251,
            "count": 1
           },
           {
            "bin_end": 0.7395409139073625,
            "bin_start": 0.6093113708610438,
            "count": 0
           },
           {
            "bin_end": 0.8697704569536813,
            "bin_start": 0.7395409139073625,
            "count": 0
           },
           {
            "bin_end": 1,
            "bin_start": 0.8697704569536813,
            "count": 3
           }
          ],
          "max": "1.0",
          "min": "-0.3022954304631875",
          "nan_count": 0,
          "unique_count": 5
         }
        },
        {
         "dtype": "float64",
         "name": "Operating_Profit",
         "stats": {
          "histogram": [
           {
            "bin_end": 0.057258179977764515,
            "bin_start": -0.047490911135817215,
            "count": 1
           },
           {
            "bin_end": 0.16200727109134624,
            "bin_start": 0.057258179977764515,
            "count": 0
           },
           {
            "bin_end": 0.266756362204928,
            "bin_start": 0.16200727109134624,
            "count": 0
           },
           {
            "bin_end": 0.3715054533185097,
            "bin_start": 0.266756362204928,
            "count": 0
           },
           {
            "bin_end": 0.4762545444320914,
            "bin_start": 0.3715054533185097,
            "count": 0
           },
           {
            "bin_end": 0.5810036355456731,
            "bin_start": 0.4762545444320914,
            "count": 1
           },
           {
            "bin_end": 0.6857527266592549,
            "bin_start": 0.5810036355456731,
            "count": 0
           },
           {
            "bin_end": 0.7905018177728367,
            "bin_start": 0.6857527266592549,
            "count": 0
           },
           {
            "bin_end": 0.8952509088864185,
            "bin_start": 0.7905018177728367,
            "count": 1
           },
           {
            "bin_end": 1,
            "bin_start": 0.8952509088864185,
            "count": 2
           }
          ],
          "max": "1.0",
          "min": "-0.047490911135817215",
          "nan_count": 0,
          "unique_count": 5
         }
        },
        {
         "dtype": "float64",
         "name": "Operating_Margin",
         "stats": {
          "histogram": [
           {
            "bin_end": -0.17493131379816187,
            "bin_start": -0.3054792375535132,
            "count": 2
           },
           {
            "bin_end": -0.044383390042810555,
            "bin_start": -0.17493131379816187,
            "count": 2
           },
           {
            "bin_end": 0.08616453371254079,
            "bin_start": -0.044383390042810555,
            "count": 0
           },
           {
            "bin_end": 0.21671245746789208,
            "bin_start": 0.08616453371254079,
            "count": 0
           },
           {
            "bin_end": 0.3472603812232434,
            "bin_start": 0.21671245746789208,
            "count": 0
           },
           {
            "bin_end": 0.4778083049785948,
            "bin_start": 0.3472603812232434,
            "count": 0
           },
           {
            "bin_end": 0.6083562287339461,
            "bin_start": 0.4778083049785948,
            "count": 0
           },
           {
            "bin_end": 0.7389041524892974,
            "bin_start": 0.6083562287339461,
            "count": 0
           },
           {
            "bin_end": 0.8694520762446487,
            "bin_start": 0.7389041524892974,
            "count": 0
           },
           {
            "bin_end": 1,
            "bin_start": 0.8694520762446487,
            "count": 1
           }
          ],
          "max": "1.0",
          "min": "-0.3054792375535132",
          "nan_count": 0,
          "unique_count": 5
         }
        },
        {
         "dtype": "object",
         "name": "_deepnote_index_column"
        }
       ],
       "row_count": 5,
       "rows": [
        {
         "Operating_Margin": -0.1374864829361484,
         "Operating_Profit": 0.5036827423355905,
         "Price_per_Unit": 1,
         "Total_Sales": 0.5395466820338701,
         "Units_Sold": 0.2658685038122002,
         "_deepnote_index_column": "Price_per_Unit"
        },
        {
         "Operating_Margin": -0.3054792375535132,
         "Operating_Profit": 0.8719927612728451,
         "Price_per_Unit": 0.2658685038122002,
         "Total_Sales": 0.9193389329179877,
         "Units_Sold": 1,
         "_deepnote_index_column": "Units_Sold"
        },
        {
         "Operating_Margin": -0.3022954304631875,
         "Operating_Profit": 0.9353716555885865,
         "Price_per_Unit": 0.5395466820338701,
         "Total_Sales": 1,
         "Units_Sold": 0.9193389329179877,
         "_deepnote_index_column": "Total_Sales"
        },
        {
         "Operating_Margin": -0.047490911135817215,
         "Operating_Profit": 1,
         "Price_per_Unit": 0.5036827423355905,
         "Total_Sales": 0.9353716555885865,
         "Units_Sold": 0.8719927612728451,
         "_deepnote_index_column": "Operating_Profit"
        },
        {
         "Operating_Margin": 1,
         "Operating_Profit": -0.047490911135817215,
         "Price_per_Unit": -0.1374864829361484,
         "Total_Sales": -0.3022954304631875,
         "Units_Sold": -0.3054792375535132,
         "_deepnote_index_column": "Operating_Margin"
        }
       ]
      },
      "text/html": [
       "<div>\n",
       "<style scoped>\n",
       "    .dataframe tbody tr th:only-of-type {\n",
       "        vertical-align: middle;\n",
       "    }\n",
       "\n",
       "    .dataframe tbody tr th {\n",
       "        vertical-align: top;\n",
       "    }\n",
       "\n",
       "    .dataframe thead th {\n",
       "        text-align: right;\n",
       "    }\n",
       "</style>\n",
       "<table border=\"1\" class=\"dataframe\">\n",
       "  <thead>\n",
       "    <tr style=\"text-align: right;\">\n",
       "      <th></th>\n",
       "      <th>Price_per_Unit</th>\n",
       "      <th>Units_Sold</th>\n",
       "      <th>Total_Sales</th>\n",
       "      <th>Operating_Profit</th>\n",
       "      <th>Operating_Margin</th>\n",
       "    </tr>\n",
       "  </thead>\n",
       "  <tbody>\n",
       "    <tr>\n",
       "      <th>Price_per_Unit</th>\n",
       "      <td>1.000000</td>\n",
       "      <td>0.265869</td>\n",
       "      <td>0.539547</td>\n",
       "      <td>0.503683</td>\n",
       "      <td>-0.137486</td>\n",
       "    </tr>\n",
       "    <tr>\n",
       "      <th>Units_Sold</th>\n",
       "      <td>0.265869</td>\n",
       "      <td>1.000000</td>\n",
       "      <td>0.919339</td>\n",
       "      <td>0.871993</td>\n",
       "      <td>-0.305479</td>\n",
       "    </tr>\n",
       "    <tr>\n",
       "      <th>Total_Sales</th>\n",
       "      <td>0.539547</td>\n",
       "      <td>0.919339</td>\n",
       "      <td>1.000000</td>\n",
       "      <td>0.935372</td>\n",
       "      <td>-0.302295</td>\n",
       "    </tr>\n",
       "    <tr>\n",
       "      <th>Operating_Profit</th>\n",
       "      <td>0.503683</td>\n",
       "      <td>0.871993</td>\n",
       "      <td>0.935372</td>\n",
       "      <td>1.000000</td>\n",
       "      <td>-0.047491</td>\n",
       "    </tr>\n",
       "    <tr>\n",
       "      <th>Operating_Margin</th>\n",
       "      <td>-0.137486</td>\n",
       "      <td>-0.305479</td>\n",
       "      <td>-0.302295</td>\n",
       "      <td>-0.047491</td>\n",
       "      <td>1.000000</td>\n",
       "    </tr>\n",
       "  </tbody>\n",
       "</table>\n",
       "</div>"
      ],
      "text/plain": [
       "                  Price_per_Unit  Units_Sold  Total_Sales  Operating_Profit  \\\n",
       "Price_per_Unit          1.000000    0.265869     0.539547          0.503683   \n",
       "Units_Sold              0.265869    1.000000     0.919339          0.871993   \n",
       "Total_Sales             0.539547    0.919339     1.000000          0.935372   \n",
       "Operating_Profit        0.503683    0.871993     0.935372          1.000000   \n",
       "Operating_Margin       -0.137486   -0.305479    -0.302295         -0.047491   \n",
       "\n",
       "                  Operating_Margin  \n",
       "Price_per_Unit           -0.137486  \n",
       "Units_Sold               -0.305479  \n",
       "Total_Sales              -0.302295  \n",
       "Operating_Profit         -0.047491  \n",
       "Operating_Margin          1.000000  "
      ]
     },
     "execution_count": 39,
     "metadata": {},
     "output_type": "execute_result"
    }
   ],
   "source": [
    "df_clean[['Price_per_Unit','Units_Sold', 'Total_Sales', 'Operating_Profit', 'Operating_Margin']].corr()\n",
    "# If Price per unit is more, the total sales & operating profit will be more since they are positively correlated.\n",
    "# Whereas, price per unit and operating margin has negative weak correaltion.\n",
    "# Price per unit and units sold are positively weakly correlated. This wouldn't guarantee that more price per unit would mean more units sold to some extent.\n",
    "# units sold and operating profit have positive strong correlation which is by logic correct and same with units sold and total sales.\n",
    "# Interestingly, operating margin and units sold are negatively moderately correlated.\n",
    "# As operating margin and unit sold is negatively moderately correlated, so we can say that the most sales/more units would be sold due to excess money spent on ads and hence we could justify that maybe the sales are high but the profit margin is comparitively less."
   ]
  },
  {
   "cell_type": "code",
   "execution_count": 40,
   "metadata": {
    "cell_id": "aeb954a055614231b935b616ea779314",
    "deepnote_cell_type": "code",
    "deepnote_to_be_reexecuted": false,
    "execution_millis": 278,
    "execution_start": 1703563167452,
    "source_hash": "5ec9fa5e"
   },
   "outputs": [
    {
     "data": {
      "image/png": "[encoded data removed]",
      "text/plain": [
       "<Figure size 1000x800 with 2 Axes>"
      ]
     },
     "metadata": {
      "image/png": {
       "height": 682,
       "width": 776
      }
     },
     "output_type": "display_data"
    }
   ],
   "source": [
    "heatmap = df_clean[['Price_per_Unit','Units_Sold', 'Total_Sales', 'Operating_Profit', 'Operating_Margin']]\n",
    "plt.figure(figsize=(10, 8))\n",
    "sns.heatmap(heatmap.corr(), cmap='viridis', annot=True, fmt=\".2f\", linewidths=.5)\n",
    "plt.title('Heatmap')\n",
    "plt.show()"
   ]
  },
  {
   "cell_type": "code",
   "execution_count": 41,
   "metadata": {
    "cell_id": "a623a5485b4e49d7bc6cfbbc238f9cdd",
    "deepnote_cell_type": "code",
    "deepnote_to_be_reexecuted": false,
    "execution_millis": 341,
    "execution_start": 1703563167731,
    "source_hash": "28e14492"
   },
   "outputs": [
    {
     "data": {
      "image/png": "[encoded data removed]",
      "text/plain": [
       "<Figure size 1000x800 with 1 Axes>"
      ]
     },
     "metadata": {
      "image/png": {
       "height": 827,
       "width": 850
      }
     },
     "output_type": "display_data"
    }
   ],
   "source": [
    "plt.figure(figsize=(10, 8))\n",
    "sns.boxplot(x='Product', y='Price_per_Unit', data=df_clean)\n",
    "plt.title('Box Plot of Price Per Unit Grouped by Product')\n",
    "plt.xlabel('Product')\n",
    "plt.ylabel('Price Per Unit')\n",
    "plt.xticks(rotation=45)\n",
    "plt.show()\n",
    "#Generally, price per unit for each product has normal distribution but for \"men's athletic footwear\" it is slightly left skewed\n",
    "# and for \"women's athletic footwear\" it is slightly right skewed.\n",
    "\n",
    "#The median price per unit for \"men's apparel\" and \"women's apparel\" is the highest.\n",
    "#\"women's street footwear\" and \"women's athletic footwear\" has the lowest median price per unit.\n",
    "#There are many outliers towards the right side of the graph for each product."
   ]
  },
  {
   "cell_type": "code",
   "execution_count": 42,
   "metadata": {
    "cell_id": "9eed351a214446cdab80f574659068bd",
    "deepnote_cell_type": "code",
    "deepnote_to_be_reexecuted": false,
    "execution_millis": 366,
    "execution_start": 1703563168073,
    "source_hash": "486b92d4"
   },
   "outputs": [
    {
     "data": {
      "image/png": "[encoded data removed]",
      "text/plain": [
       "<Figure size 1000x800 with 1 Axes>"
      ]
     },
     "metadata": {
      "image/png": {
       "height": 827,
       "width": 841
      }
     },
     "output_type": "display_data"
    }
   ],
   "source": [
    "plt.figure(figsize=(10, 8))\n",
    "sns.boxplot(x='Product', y='Operating_Margin', data=df_clean)\n",
    "plt.title('Box Plot of Operating Margin Grouped by Product')\n",
    "plt.xlabel('Product')\n",
    "plt.ylabel('Operating Margin')\n",
    "plt.xticks(rotation=45)\n",
    "plt.show()\n",
    "#In general, the operating margin for each product has slight right skewness, \n",
    "# but for \"men's street footwear\" and \"women's apparel\" it is normal distributed."
   ]
  },
  {
   "cell_type": "markdown",
   "metadata": {
    "cell_id": "1be9373b49614a2eb8ee70ed4295cde6",
    "deepnote_cell_type": "text-cell-p",
    "formattedRanges": []
   },
   "source": [
    " "
   ]
  },
  {
   "cell_type": "code",
   "execution_count": 47,
   "metadata": {
    "cell_id": "4d50077b53f14297bd9822176f3a0aa7",
    "deepnote_cell_type": "code",
    "deepnote_to_be_reexecuted": false,
    "execution_millis": 420,
    "execution_start": 1703563459254,
    "source_hash": "f46515d1"
   },
   "outputs": [],
   "source": [
    "final_table = df_clean.groupby(['Region', 'State', 'City','Sales_Method','Product']).Operating_Profit.median()\n",
    "final_table = final_table.sort_values(ascending=False)\n",
    "final_table.to_csv('Final_Profit_dataset.csv')\n",
    "#This creates a new csv file which groups region, state, city, sales method and product based on median operating profits which helps the company make better decisions while investing to gain maximum profits."
   ]
  },
  {
   "cell_type": "code",
   "execution_count": null,
   "metadata": {
    "cell_id": "d776a468adfd4defb7fba06541e3e617",
    "deepnote_cell_type": "code",
    "deepnote_to_be_reexecuted": true,
    "source_hash": "b623e53d"
   },
   "outputs": [],
   "source": []
  }
 ],
 "metadata": {
  "deepnote": {},
  "deepnote_execution_queue": [],
  "deepnote_notebook_id": "478635606ba0489b90efb95bf5412b0f",
  "deepnote_persisted_session": {
   "createdAt": "2023-12-26T03:45:35.800Z"
  },
  "kernelspec": {
   "display_name": "Python 3 (ipykernel)",
   "language": "python",
   "name": "python3"
  },
  "language_info": {
   "codemirror_mode": {
    "name": "ipython",
    "version": 3
   },
   "file_extension": ".py",
   "mimetype": "text/x-python",
   "name": "python",
   "nbconvert_exporter": "python",
   "pygments_lexer": "ipython3",
   "version": "3.11.5"
  }
 },
 "nbformat": 4,
 "nbformat_minor": 4
}
